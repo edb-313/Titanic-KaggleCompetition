{
 "cells": [
  {
   "cell_type": "markdown",
   "id": "dd78efc3",
   "metadata": {
    "papermill": {
     "duration": 0.022909,
     "end_time": "2023-03-13T09:49:25.969035",
     "exception": false,
     "start_time": "2023-03-13T09:49:25.946126",
     "status": "completed"
    },
    "tags": []
   },
   "source": [
    "# Titanic spaceship with machine learning"
   ]
  },
  {
   "cell_type": "code",
   "execution_count": 1,
   "id": "6d9398bb",
   "metadata": {
    "_cell_guid": "b1076dfc-b9ad-4769-8c92-a6c4dae69d19",
    "_uuid": "8f2839f25d086af736a60e9eeb907d3b93b6e0e5",
    "execution": {
     "iopub.execute_input": "2023-03-13T09:49:26.014508Z",
     "iopub.status.busy": "2023-03-13T09:49:26.014120Z",
     "iopub.status.idle": "2023-03-13T09:49:26.028804Z",
     "shell.execute_reply": "2023-03-13T09:49:26.026880Z"
    },
    "papermill": {
     "duration": 0.041508,
     "end_time": "2023-03-13T09:49:26.031711",
     "exception": false,
     "start_time": "2023-03-13T09:49:25.990203",
     "status": "completed"
    },
    "tags": []
   },
   "outputs": [
    {
     "name": "stdout",
     "output_type": "stream",
     "text": [
      "/kaggle/input/spaceship-titanic/sample_submission.csv\n",
      "/kaggle/input/spaceship-titanic/train.csv\n",
      "/kaggle/input/spaceship-titanic/test.csv\n"
     ]
    }
   ],
   "source": [
    "\n",
    "\n",
    "import numpy as np # linear algebra\n",
    "import pandas as pd # data processing, CSV file I/O (e.g. pd.read_csv)\n",
    "\n",
    "import os\n",
    "for dirname, _, filenames in os.walk('/kaggle/input'):\n",
    "    for filename in filenames:\n",
    "        print(os.path.join(dirname, filename))\n",
    "\n"
   ]
  },
  {
   "cell_type": "code",
   "execution_count": 2,
   "id": "8ae42dfd",
   "metadata": {
    "execution": {
     "iopub.execute_input": "2023-03-13T09:49:26.074431Z",
     "iopub.status.busy": "2023-03-13T09:49:26.073926Z",
     "iopub.status.idle": "2023-03-13T09:49:27.312480Z",
     "shell.execute_reply": "2023-03-13T09:49:27.311406Z"
    },
    "papermill": {
     "duration": 1.262821,
     "end_time": "2023-03-13T09:49:27.315159",
     "exception": false,
     "start_time": "2023-03-13T09:49:26.052338",
     "status": "completed"
    },
    "tags": []
   },
   "outputs": [],
   "source": [
    "# import libraries \n",
    "import pandas as pd\n",
    "import numpy as np\n",
    "from scipy import stats\n",
    "import matplotlib.pyplot as plt\n",
    "import seaborn as sns\n",
    "%matplotlib inline"
   ]
  },
  {
   "cell_type": "code",
   "execution_count": 3,
   "id": "9b70b26e",
   "metadata": {
    "execution": {
     "iopub.execute_input": "2023-03-13T09:49:27.357298Z",
     "iopub.status.busy": "2023-03-13T09:49:27.356885Z",
     "iopub.status.idle": "2023-03-13T09:49:27.435445Z",
     "shell.execute_reply": "2023-03-13T09:49:27.434010Z"
    },
    "papermill": {
     "duration": 0.103432,
     "end_time": "2023-03-13T09:49:27.438701",
     "exception": false,
     "start_time": "2023-03-13T09:49:27.335269",
     "status": "completed"
    },
    "tags": []
   },
   "outputs": [],
   "source": [
    "# import Data source \n",
    "train_data = pd.read_csv(\"/kaggle/input/spaceship-titanic/train.csv\")\n",
    "test_data = pd.read_csv(\"/kaggle/input/spaceship-titanic/test.csv\")"
   ]
  },
  {
   "cell_type": "code",
   "execution_count": 4,
   "id": "468822ec",
   "metadata": {
    "execution": {
     "iopub.execute_input": "2023-03-13T09:49:27.481937Z",
     "iopub.status.busy": "2023-03-13T09:49:27.480773Z",
     "iopub.status.idle": "2023-03-13T09:49:27.520703Z",
     "shell.execute_reply": "2023-03-13T09:49:27.519544Z"
    },
    "papermill": {
     "duration": 0.0646,
     "end_time": "2023-03-13T09:49:27.523708",
     "exception": false,
     "start_time": "2023-03-13T09:49:27.459108",
     "status": "completed"
    },
    "tags": []
   },
   "outputs": [
    {
     "data": {
      "text/html": [
       "<div>\n",
       "<style scoped>\n",
       "    .dataframe tbody tr th:only-of-type {\n",
       "        vertical-align: middle;\n",
       "    }\n",
       "\n",
       "    .dataframe tbody tr th {\n",
       "        vertical-align: top;\n",
       "    }\n",
       "\n",
       "    .dataframe thead th {\n",
       "        text-align: right;\n",
       "    }\n",
       "</style>\n",
       "<table border=\"1\" class=\"dataframe\">\n",
       "  <thead>\n",
       "    <tr style=\"text-align: right;\">\n",
       "      <th></th>\n",
       "      <th>PassengerId</th>\n",
       "      <th>HomePlanet</th>\n",
       "      <th>CryoSleep</th>\n",
       "      <th>Cabin</th>\n",
       "      <th>Destination</th>\n",
       "      <th>Age</th>\n",
       "      <th>VIP</th>\n",
       "      <th>RoomService</th>\n",
       "      <th>FoodCourt</th>\n",
       "      <th>ShoppingMall</th>\n",
       "      <th>Spa</th>\n",
       "      <th>VRDeck</th>\n",
       "      <th>Name</th>\n",
       "      <th>Transported</th>\n",
       "    </tr>\n",
       "  </thead>\n",
       "  <tbody>\n",
       "    <tr>\n",
       "      <th>0</th>\n",
       "      <td>0001_01</td>\n",
       "      <td>Europa</td>\n",
       "      <td>False</td>\n",
       "      <td>B/0/P</td>\n",
       "      <td>TRAPPIST-1e</td>\n",
       "      <td>39.0</td>\n",
       "      <td>False</td>\n",
       "      <td>0.0</td>\n",
       "      <td>0.0</td>\n",
       "      <td>0.0</td>\n",
       "      <td>0.0</td>\n",
       "      <td>0.0</td>\n",
       "      <td>Maham Ofracculy</td>\n",
       "      <td>False</td>\n",
       "    </tr>\n",
       "    <tr>\n",
       "      <th>1</th>\n",
       "      <td>0002_01</td>\n",
       "      <td>Earth</td>\n",
       "      <td>False</td>\n",
       "      <td>F/0/S</td>\n",
       "      <td>TRAPPIST-1e</td>\n",
       "      <td>24.0</td>\n",
       "      <td>False</td>\n",
       "      <td>109.0</td>\n",
       "      <td>9.0</td>\n",
       "      <td>25.0</td>\n",
       "      <td>549.0</td>\n",
       "      <td>44.0</td>\n",
       "      <td>Juanna Vines</td>\n",
       "      <td>True</td>\n",
       "    </tr>\n",
       "    <tr>\n",
       "      <th>2</th>\n",
       "      <td>0003_01</td>\n",
       "      <td>Europa</td>\n",
       "      <td>False</td>\n",
       "      <td>A/0/S</td>\n",
       "      <td>TRAPPIST-1e</td>\n",
       "      <td>58.0</td>\n",
       "      <td>True</td>\n",
       "      <td>43.0</td>\n",
       "      <td>3576.0</td>\n",
       "      <td>0.0</td>\n",
       "      <td>6715.0</td>\n",
       "      <td>49.0</td>\n",
       "      <td>Altark Susent</td>\n",
       "      <td>False</td>\n",
       "    </tr>\n",
       "    <tr>\n",
       "      <th>3</th>\n",
       "      <td>0003_02</td>\n",
       "      <td>Europa</td>\n",
       "      <td>False</td>\n",
       "      <td>A/0/S</td>\n",
       "      <td>TRAPPIST-1e</td>\n",
       "      <td>33.0</td>\n",
       "      <td>False</td>\n",
       "      <td>0.0</td>\n",
       "      <td>1283.0</td>\n",
       "      <td>371.0</td>\n",
       "      <td>3329.0</td>\n",
       "      <td>193.0</td>\n",
       "      <td>Solam Susent</td>\n",
       "      <td>False</td>\n",
       "    </tr>\n",
       "    <tr>\n",
       "      <th>4</th>\n",
       "      <td>0004_01</td>\n",
       "      <td>Earth</td>\n",
       "      <td>False</td>\n",
       "      <td>F/1/S</td>\n",
       "      <td>TRAPPIST-1e</td>\n",
       "      <td>16.0</td>\n",
       "      <td>False</td>\n",
       "      <td>303.0</td>\n",
       "      <td>70.0</td>\n",
       "      <td>151.0</td>\n",
       "      <td>565.0</td>\n",
       "      <td>2.0</td>\n",
       "      <td>Willy Santantines</td>\n",
       "      <td>True</td>\n",
       "    </tr>\n",
       "  </tbody>\n",
       "</table>\n",
       "</div>"
      ],
      "text/plain": [
       "  PassengerId HomePlanet CryoSleep  Cabin  Destination   Age    VIP  \\\n",
       "0     0001_01     Europa     False  B/0/P  TRAPPIST-1e  39.0  False   \n",
       "1     0002_01      Earth     False  F/0/S  TRAPPIST-1e  24.0  False   \n",
       "2     0003_01     Europa     False  A/0/S  TRAPPIST-1e  58.0   True   \n",
       "3     0003_02     Europa     False  A/0/S  TRAPPIST-1e  33.0  False   \n",
       "4     0004_01      Earth     False  F/1/S  TRAPPIST-1e  16.0  False   \n",
       "\n",
       "   RoomService  FoodCourt  ShoppingMall     Spa  VRDeck               Name  \\\n",
       "0          0.0        0.0           0.0     0.0     0.0    Maham Ofracculy   \n",
       "1        109.0        9.0          25.0   549.0    44.0       Juanna Vines   \n",
       "2         43.0     3576.0           0.0  6715.0    49.0      Altark Susent   \n",
       "3          0.0     1283.0         371.0  3329.0   193.0       Solam Susent   \n",
       "4        303.0       70.0         151.0   565.0     2.0  Willy Santantines   \n",
       "\n",
       "   Transported  \n",
       "0        False  \n",
       "1         True  \n",
       "2        False  \n",
       "3        False  \n",
       "4         True  "
      ]
     },
     "execution_count": 4,
     "metadata": {},
     "output_type": "execute_result"
    }
   ],
   "source": [
    "train_data.head()"
   ]
  },
  {
   "cell_type": "code",
   "execution_count": 5,
   "id": "90ddf30b",
   "metadata": {
    "execution": {
     "iopub.execute_input": "2023-03-13T09:49:27.567111Z",
     "iopub.status.busy": "2023-03-13T09:49:27.566710Z",
     "iopub.status.idle": "2023-03-13T09:49:27.586235Z",
     "shell.execute_reply": "2023-03-13T09:49:27.584957Z"
    },
    "papermill": {
     "duration": 0.044112,
     "end_time": "2023-03-13T09:49:27.588845",
     "exception": false,
     "start_time": "2023-03-13T09:49:27.544733",
     "status": "completed"
    },
    "tags": []
   },
   "outputs": [
    {
     "data": {
      "text/html": [
       "<div>\n",
       "<style scoped>\n",
       "    .dataframe tbody tr th:only-of-type {\n",
       "        vertical-align: middle;\n",
       "    }\n",
       "\n",
       "    .dataframe tbody tr th {\n",
       "        vertical-align: top;\n",
       "    }\n",
       "\n",
       "    .dataframe thead th {\n",
       "        text-align: right;\n",
       "    }\n",
       "</style>\n",
       "<table border=\"1\" class=\"dataframe\">\n",
       "  <thead>\n",
       "    <tr style=\"text-align: right;\">\n",
       "      <th></th>\n",
       "      <th>PassengerId</th>\n",
       "      <th>HomePlanet</th>\n",
       "      <th>CryoSleep</th>\n",
       "      <th>Cabin</th>\n",
       "      <th>Destination</th>\n",
       "      <th>Age</th>\n",
       "      <th>VIP</th>\n",
       "      <th>RoomService</th>\n",
       "      <th>FoodCourt</th>\n",
       "      <th>ShoppingMall</th>\n",
       "      <th>Spa</th>\n",
       "      <th>VRDeck</th>\n",
       "      <th>Name</th>\n",
       "    </tr>\n",
       "  </thead>\n",
       "  <tbody>\n",
       "    <tr>\n",
       "      <th>0</th>\n",
       "      <td>0013_01</td>\n",
       "      <td>Earth</td>\n",
       "      <td>True</td>\n",
       "      <td>G/3/S</td>\n",
       "      <td>TRAPPIST-1e</td>\n",
       "      <td>27.0</td>\n",
       "      <td>False</td>\n",
       "      <td>0.0</td>\n",
       "      <td>0.0</td>\n",
       "      <td>0.0</td>\n",
       "      <td>0.0</td>\n",
       "      <td>0.0</td>\n",
       "      <td>Nelly Carsoning</td>\n",
       "    </tr>\n",
       "    <tr>\n",
       "      <th>1</th>\n",
       "      <td>0018_01</td>\n",
       "      <td>Earth</td>\n",
       "      <td>False</td>\n",
       "      <td>F/4/S</td>\n",
       "      <td>TRAPPIST-1e</td>\n",
       "      <td>19.0</td>\n",
       "      <td>False</td>\n",
       "      <td>0.0</td>\n",
       "      <td>9.0</td>\n",
       "      <td>0.0</td>\n",
       "      <td>2823.0</td>\n",
       "      <td>0.0</td>\n",
       "      <td>Lerome Peckers</td>\n",
       "    </tr>\n",
       "    <tr>\n",
       "      <th>2</th>\n",
       "      <td>0019_01</td>\n",
       "      <td>Europa</td>\n",
       "      <td>True</td>\n",
       "      <td>C/0/S</td>\n",
       "      <td>55 Cancri e</td>\n",
       "      <td>31.0</td>\n",
       "      <td>False</td>\n",
       "      <td>0.0</td>\n",
       "      <td>0.0</td>\n",
       "      <td>0.0</td>\n",
       "      <td>0.0</td>\n",
       "      <td>0.0</td>\n",
       "      <td>Sabih Unhearfus</td>\n",
       "    </tr>\n",
       "    <tr>\n",
       "      <th>3</th>\n",
       "      <td>0021_01</td>\n",
       "      <td>Europa</td>\n",
       "      <td>False</td>\n",
       "      <td>C/1/S</td>\n",
       "      <td>TRAPPIST-1e</td>\n",
       "      <td>38.0</td>\n",
       "      <td>False</td>\n",
       "      <td>0.0</td>\n",
       "      <td>6652.0</td>\n",
       "      <td>0.0</td>\n",
       "      <td>181.0</td>\n",
       "      <td>585.0</td>\n",
       "      <td>Meratz Caltilter</td>\n",
       "    </tr>\n",
       "    <tr>\n",
       "      <th>4</th>\n",
       "      <td>0023_01</td>\n",
       "      <td>Earth</td>\n",
       "      <td>False</td>\n",
       "      <td>F/5/S</td>\n",
       "      <td>TRAPPIST-1e</td>\n",
       "      <td>20.0</td>\n",
       "      <td>False</td>\n",
       "      <td>10.0</td>\n",
       "      <td>0.0</td>\n",
       "      <td>635.0</td>\n",
       "      <td>0.0</td>\n",
       "      <td>0.0</td>\n",
       "      <td>Brence Harperez</td>\n",
       "    </tr>\n",
       "  </tbody>\n",
       "</table>\n",
       "</div>"
      ],
      "text/plain": [
       "  PassengerId HomePlanet CryoSleep  Cabin  Destination   Age    VIP  \\\n",
       "0     0013_01      Earth      True  G/3/S  TRAPPIST-1e  27.0  False   \n",
       "1     0018_01      Earth     False  F/4/S  TRAPPIST-1e  19.0  False   \n",
       "2     0019_01     Europa      True  C/0/S  55 Cancri e  31.0  False   \n",
       "3     0021_01     Europa     False  C/1/S  TRAPPIST-1e  38.0  False   \n",
       "4     0023_01      Earth     False  F/5/S  TRAPPIST-1e  20.0  False   \n",
       "\n",
       "   RoomService  FoodCourt  ShoppingMall     Spa  VRDeck              Name  \n",
       "0          0.0        0.0           0.0     0.0     0.0   Nelly Carsoning  \n",
       "1          0.0        9.0           0.0  2823.0     0.0    Lerome Peckers  \n",
       "2          0.0        0.0           0.0     0.0     0.0   Sabih Unhearfus  \n",
       "3          0.0     6652.0           0.0   181.0   585.0  Meratz Caltilter  \n",
       "4         10.0        0.0         635.0     0.0     0.0   Brence Harperez  "
      ]
     },
     "execution_count": 5,
     "metadata": {},
     "output_type": "execute_result"
    }
   ],
   "source": [
    "test_data.head()"
   ]
  },
  {
   "cell_type": "code",
   "execution_count": 6,
   "id": "3b93f86d",
   "metadata": {
    "execution": {
     "iopub.execute_input": "2023-03-13T09:49:27.631950Z",
     "iopub.status.busy": "2023-03-13T09:49:27.630833Z",
     "iopub.status.idle": "2023-03-13T09:49:27.657458Z",
     "shell.execute_reply": "2023-03-13T09:49:27.656434Z"
    },
    "papermill": {
     "duration": 0.050555,
     "end_time": "2023-03-13T09:49:27.659807",
     "exception": false,
     "start_time": "2023-03-13T09:49:27.609252",
     "status": "completed"
    },
    "tags": []
   },
   "outputs": [
    {
     "name": "stdout",
     "output_type": "stream",
     "text": [
      "<class 'pandas.core.frame.DataFrame'>\n",
      "RangeIndex: 8693 entries, 0 to 8692\n",
      "Data columns (total 14 columns):\n",
      " #   Column        Non-Null Count  Dtype  \n",
      "---  ------        --------------  -----  \n",
      " 0   PassengerId   8693 non-null   object \n",
      " 1   HomePlanet    8492 non-null   object \n",
      " 2   CryoSleep     8476 non-null   object \n",
      " 3   Cabin         8494 non-null   object \n",
      " 4   Destination   8511 non-null   object \n",
      " 5   Age           8514 non-null   float64\n",
      " 6   VIP           8490 non-null   object \n",
      " 7   RoomService   8512 non-null   float64\n",
      " 8   FoodCourt     8510 non-null   float64\n",
      " 9   ShoppingMall  8485 non-null   float64\n",
      " 10  Spa           8510 non-null   float64\n",
      " 11  VRDeck        8505 non-null   float64\n",
      " 12  Name          8493 non-null   object \n",
      " 13  Transported   8693 non-null   bool   \n",
      "dtypes: bool(1), float64(6), object(7)\n",
      "memory usage: 891.5+ KB\n"
     ]
    }
   ],
   "source": [
    "train_data.info()"
   ]
  },
  {
   "cell_type": "code",
   "execution_count": 7,
   "id": "d65ce972",
   "metadata": {
    "execution": {
     "iopub.execute_input": "2023-03-13T09:49:27.702270Z",
     "iopub.status.busy": "2023-03-13T09:49:27.701834Z",
     "iopub.status.idle": "2023-03-13T09:49:27.717389Z",
     "shell.execute_reply": "2023-03-13T09:49:27.715693Z"
    },
    "papermill": {
     "duration": 0.040378,
     "end_time": "2023-03-13T09:49:27.720416",
     "exception": false,
     "start_time": "2023-03-13T09:49:27.680038",
     "status": "completed"
    },
    "tags": []
   },
   "outputs": [
    {
     "name": "stdout",
     "output_type": "stream",
     "text": [
      "<class 'pandas.core.frame.DataFrame'>\n",
      "RangeIndex: 4277 entries, 0 to 4276\n",
      "Data columns (total 13 columns):\n",
      " #   Column        Non-Null Count  Dtype  \n",
      "---  ------        --------------  -----  \n",
      " 0   PassengerId   4277 non-null   object \n",
      " 1   HomePlanet    4190 non-null   object \n",
      " 2   CryoSleep     4184 non-null   object \n",
      " 3   Cabin         4177 non-null   object \n",
      " 4   Destination   4185 non-null   object \n",
      " 5   Age           4186 non-null   float64\n",
      " 6   VIP           4184 non-null   object \n",
      " 7   RoomService   4195 non-null   float64\n",
      " 8   FoodCourt     4171 non-null   float64\n",
      " 9   ShoppingMall  4179 non-null   float64\n",
      " 10  Spa           4176 non-null   float64\n",
      " 11  VRDeck        4197 non-null   float64\n",
      " 12  Name          4183 non-null   object \n",
      "dtypes: float64(6), object(7)\n",
      "memory usage: 434.5+ KB\n"
     ]
    }
   ],
   "source": [
    "test_data.info()"
   ]
  },
  {
   "cell_type": "code",
   "execution_count": 8,
   "id": "bf50cdcc",
   "metadata": {
    "execution": {
     "iopub.execute_input": "2023-03-13T09:49:27.763712Z",
     "iopub.status.busy": "2023-03-13T09:49:27.763277Z",
     "iopub.status.idle": "2023-03-13T09:49:27.786636Z",
     "shell.execute_reply": "2023-03-13T09:49:27.785456Z"
    },
    "papermill": {
     "duration": 0.048211,
     "end_time": "2023-03-13T09:49:27.789621",
     "exception": false,
     "start_time": "2023-03-13T09:49:27.741410",
     "status": "completed"
    },
    "tags": []
   },
   "outputs": [
    {
     "data": {
      "text/html": [
       "<div>\n",
       "<style scoped>\n",
       "    .dataframe tbody tr th:only-of-type {\n",
       "        vertical-align: middle;\n",
       "    }\n",
       "\n",
       "    .dataframe tbody tr th {\n",
       "        vertical-align: top;\n",
       "    }\n",
       "\n",
       "    .dataframe thead th {\n",
       "        text-align: right;\n",
       "    }\n",
       "</style>\n",
       "<table border=\"1\" class=\"dataframe\">\n",
       "  <thead>\n",
       "    <tr style=\"text-align: right;\">\n",
       "      <th></th>\n",
       "      <th>PassengerId</th>\n",
       "      <th>HomePlanet</th>\n",
       "      <th>CryoSleep</th>\n",
       "      <th>Cabin</th>\n",
       "      <th>Destination</th>\n",
       "      <th>Age</th>\n",
       "      <th>VIP</th>\n",
       "      <th>RoomService</th>\n",
       "      <th>FoodCourt</th>\n",
       "      <th>ShoppingMall</th>\n",
       "      <th>Spa</th>\n",
       "      <th>VRDeck</th>\n",
       "      <th>Name</th>\n",
       "      <th>Transported</th>\n",
       "    </tr>\n",
       "  </thead>\n",
       "  <tbody>\n",
       "    <tr>\n",
       "      <th>0</th>\n",
       "      <td>False</td>\n",
       "      <td>False</td>\n",
       "      <td>False</td>\n",
       "      <td>False</td>\n",
       "      <td>False</td>\n",
       "      <td>False</td>\n",
       "      <td>False</td>\n",
       "      <td>False</td>\n",
       "      <td>False</td>\n",
       "      <td>False</td>\n",
       "      <td>False</td>\n",
       "      <td>False</td>\n",
       "      <td>False</td>\n",
       "      <td>False</td>\n",
       "    </tr>\n",
       "    <tr>\n",
       "      <th>1</th>\n",
       "      <td>False</td>\n",
       "      <td>False</td>\n",
       "      <td>False</td>\n",
       "      <td>False</td>\n",
       "      <td>False</td>\n",
       "      <td>False</td>\n",
       "      <td>False</td>\n",
       "      <td>False</td>\n",
       "      <td>False</td>\n",
       "      <td>False</td>\n",
       "      <td>False</td>\n",
       "      <td>False</td>\n",
       "      <td>False</td>\n",
       "      <td>False</td>\n",
       "    </tr>\n",
       "    <tr>\n",
       "      <th>2</th>\n",
       "      <td>False</td>\n",
       "      <td>False</td>\n",
       "      <td>False</td>\n",
       "      <td>False</td>\n",
       "      <td>False</td>\n",
       "      <td>False</td>\n",
       "      <td>False</td>\n",
       "      <td>False</td>\n",
       "      <td>False</td>\n",
       "      <td>False</td>\n",
       "      <td>False</td>\n",
       "      <td>False</td>\n",
       "      <td>False</td>\n",
       "      <td>False</td>\n",
       "    </tr>\n",
       "    <tr>\n",
       "      <th>3</th>\n",
       "      <td>False</td>\n",
       "      <td>False</td>\n",
       "      <td>False</td>\n",
       "      <td>False</td>\n",
       "      <td>False</td>\n",
       "      <td>False</td>\n",
       "      <td>False</td>\n",
       "      <td>False</td>\n",
       "      <td>False</td>\n",
       "      <td>False</td>\n",
       "      <td>False</td>\n",
       "      <td>False</td>\n",
       "      <td>False</td>\n",
       "      <td>False</td>\n",
       "    </tr>\n",
       "    <tr>\n",
       "      <th>4</th>\n",
       "      <td>False</td>\n",
       "      <td>False</td>\n",
       "      <td>False</td>\n",
       "      <td>False</td>\n",
       "      <td>False</td>\n",
       "      <td>False</td>\n",
       "      <td>False</td>\n",
       "      <td>False</td>\n",
       "      <td>False</td>\n",
       "      <td>False</td>\n",
       "      <td>False</td>\n",
       "      <td>False</td>\n",
       "      <td>False</td>\n",
       "      <td>False</td>\n",
       "    </tr>\n",
       "  </tbody>\n",
       "</table>\n",
       "</div>"
      ],
      "text/plain": [
       "   PassengerId  HomePlanet  CryoSleep  Cabin  Destination    Age    VIP  \\\n",
       "0        False       False      False  False        False  False  False   \n",
       "1        False       False      False  False        False  False  False   \n",
       "2        False       False      False  False        False  False  False   \n",
       "3        False       False      False  False        False  False  False   \n",
       "4        False       False      False  False        False  False  False   \n",
       "\n",
       "   RoomService  FoodCourt  ShoppingMall    Spa  VRDeck   Name  Transported  \n",
       "0        False      False         False  False   False  False        False  \n",
       "1        False      False         False  False   False  False        False  \n",
       "2        False      False         False  False   False  False        False  \n",
       "3        False      False         False  False   False  False        False  \n",
       "4        False      False         False  False   False  False        False  "
      ]
     },
     "execution_count": 8,
     "metadata": {},
     "output_type": "execute_result"
    }
   ],
   "source": [
    "missing_data = train_data.isnull()\n",
    "missing_data.head()"
   ]
  },
  {
   "cell_type": "code",
   "execution_count": 9,
   "id": "7f094852",
   "metadata": {
    "execution": {
     "iopub.execute_input": "2023-03-13T09:49:27.834041Z",
     "iopub.status.busy": "2023-03-13T09:49:27.833636Z",
     "iopub.status.idle": "2023-03-13T09:49:27.876159Z",
     "shell.execute_reply": "2023-03-13T09:49:27.873989Z"
    },
    "papermill": {
     "duration": 0.067993,
     "end_time": "2023-03-13T09:49:27.879061",
     "exception": false,
     "start_time": "2023-03-13T09:49:27.811068",
     "status": "completed"
    },
    "tags": []
   },
   "outputs": [
    {
     "name": "stdout",
     "output_type": "stream",
     "text": [
      "PassengerId\n",
      "False          8693\n",
      "dtype: int64\n",
      "-------------------------------\n",
      "HomePlanet\n",
      "False         8492\n",
      "True           201\n",
      "dtype: int64\n",
      "-------------------------------\n",
      "CryoSleep\n",
      "False        8476\n",
      "True          217\n",
      "dtype: int64\n",
      "-------------------------------\n",
      "Cabin\n",
      "False    8494\n",
      "True      199\n",
      "dtype: int64\n",
      "-------------------------------\n",
      "Destination\n",
      "False          8511\n",
      "True            182\n",
      "dtype: int64\n",
      "-------------------------------\n",
      "Age  \n",
      "False    8514\n",
      "True      179\n",
      "dtype: int64\n",
      "-------------------------------\n",
      "VIP  \n",
      "False    8490\n",
      "True      203\n",
      "dtype: int64\n",
      "-------------------------------\n",
      "RoomService\n",
      "False          8512\n",
      "True            181\n",
      "dtype: int64\n",
      "-------------------------------\n",
      "FoodCourt\n",
      "False        8510\n",
      "True          183\n",
      "dtype: int64\n",
      "-------------------------------\n",
      "ShoppingMall\n",
      "False           8485\n",
      "True             208\n",
      "dtype: int64\n",
      "-------------------------------\n",
      "Spa  \n",
      "False    8510\n",
      "True      183\n",
      "dtype: int64\n",
      "-------------------------------\n",
      "VRDeck\n",
      "False     8505\n",
      "True       188\n",
      "dtype: int64\n",
      "-------------------------------\n",
      "Name \n",
      "False    8493\n",
      "True      200\n",
      "dtype: int64\n",
      "-------------------------------\n",
      "Transported\n",
      "False          8693\n",
      "dtype: int64\n",
      "-------------------------------\n"
     ]
    }
   ],
   "source": [
    "for col in missing_data.columns.values.tolist():\n",
    "    print(missing_data[[col]].value_counts())\n",
    "    print('-------------------------------')"
   ]
  },
  {
   "cell_type": "code",
   "execution_count": 10,
   "id": "fdaae59e",
   "metadata": {
    "execution": {
     "iopub.execute_input": "2023-03-13T09:49:27.923751Z",
     "iopub.status.busy": "2023-03-13T09:49:27.922948Z",
     "iopub.status.idle": "2023-03-13T09:49:27.935747Z",
     "shell.execute_reply": "2023-03-13T09:49:27.934537Z"
    },
    "papermill": {
     "duration": 0.03767,
     "end_time": "2023-03-13T09:49:27.938368",
     "exception": false,
     "start_time": "2023-03-13T09:49:27.900698",
     "status": "completed"
    },
    "tags": []
   },
   "outputs": [
    {
     "data": {
      "text/plain": [
       "HomePlanet\n",
       "Earth         4602\n",
       "Europa        2131\n",
       "Mars          1759\n",
       "NaN            201\n",
       "dtype: int64"
      ]
     },
     "execution_count": 10,
     "metadata": {},
     "output_type": "execute_result"
    }
   ],
   "source": [
    "train_data[['HomePlanet']].value_counts(dropna=False)"
   ]
  },
  {
   "cell_type": "code",
   "execution_count": 11,
   "id": "7b795777",
   "metadata": {
    "execution": {
     "iopub.execute_input": "2023-03-13T09:49:27.984810Z",
     "iopub.status.busy": "2023-03-13T09:49:27.984395Z",
     "iopub.status.idle": "2023-03-13T09:49:28.010848Z",
     "shell.execute_reply": "2023-03-13T09:49:28.009842Z"
    },
    "papermill": {
     "duration": 0.053063,
     "end_time": "2023-03-13T09:49:28.013068",
     "exception": false,
     "start_time": "2023-03-13T09:49:27.960005",
     "status": "completed"
    },
    "tags": []
   },
   "outputs": [
    {
     "data": {
      "text/plain": [
       "2.809059985251311e-71"
      ]
     },
     "execution_count": 11,
     "metadata": {},
     "output_type": "execute_result"
    }
   ],
   "source": [
    "cont_table = pd.crosstab(train_data['HomePlanet'], train_data['Transported'])\n",
    "stats.chi2_contingency(cont_table, correction=True)[1]"
   ]
  },
  {
   "cell_type": "code",
   "execution_count": 12,
   "id": "154fc57e",
   "metadata": {
    "execution": {
     "iopub.execute_input": "2023-03-13T09:49:28.057502Z",
     "iopub.status.busy": "2023-03-13T09:49:28.056380Z",
     "iopub.status.idle": "2023-03-13T09:49:28.064871Z",
     "shell.execute_reply": "2023-03-13T09:49:28.064017Z"
    },
    "papermill": {
     "duration": 0.032857,
     "end_time": "2023-03-13T09:49:28.067006",
     "exception": false,
     "start_time": "2023-03-13T09:49:28.034149",
     "status": "completed"
    },
    "tags": []
   },
   "outputs": [],
   "source": [
    "train_data['HomePlanet'].fillna(train_data['HomePlanet'].mode()[0], inplace=True)"
   ]
  },
  {
   "cell_type": "code",
   "execution_count": 13,
   "id": "d4faa671",
   "metadata": {
    "execution": {
     "iopub.execute_input": "2023-03-13T09:49:28.111689Z",
     "iopub.status.busy": "2023-03-13T09:49:28.111265Z",
     "iopub.status.idle": "2023-03-13T09:49:28.117764Z",
     "shell.execute_reply": "2023-03-13T09:49:28.116626Z"
    },
    "papermill": {
     "duration": 0.031777,
     "end_time": "2023-03-13T09:49:28.119928",
     "exception": false,
     "start_time": "2023-03-13T09:49:28.088151",
     "status": "completed"
    },
    "tags": []
   },
   "outputs": [],
   "source": [
    "test_data['HomePlanet'].fillna(test_data['HomePlanet'].mode()[0], inplace = True)"
   ]
  },
  {
   "cell_type": "code",
   "execution_count": 14,
   "id": "53113ef4",
   "metadata": {
    "execution": {
     "iopub.execute_input": "2023-03-13T09:49:28.163824Z",
     "iopub.status.busy": "2023-03-13T09:49:28.163401Z",
     "iopub.status.idle": "2023-03-13T09:49:28.172624Z",
     "shell.execute_reply": "2023-03-13T09:49:28.171489Z"
    },
    "papermill": {
     "duration": 0.034109,
     "end_time": "2023-03-13T09:49:28.175142",
     "exception": false,
     "start_time": "2023-03-13T09:49:28.141033",
     "status": "completed"
    },
    "tags": []
   },
   "outputs": [
    {
     "data": {
      "text/plain": [
       "False    5439\n",
       "True     3037\n",
       "NaN       217\n",
       "Name: CryoSleep, dtype: int64"
      ]
     },
     "execution_count": 14,
     "metadata": {},
     "output_type": "execute_result"
    }
   ],
   "source": [
    "train_data['CryoSleep'].value_counts(dropna=False)"
   ]
  },
  {
   "cell_type": "code",
   "execution_count": 15,
   "id": "2fba04fa",
   "metadata": {
    "execution": {
     "iopub.execute_input": "2023-03-13T09:49:28.220095Z",
     "iopub.status.busy": "2023-03-13T09:49:28.219188Z",
     "iopub.status.idle": "2023-03-13T09:49:28.238959Z",
     "shell.execute_reply": "2023-03-13T09:49:28.238023Z"
    },
    "papermill": {
     "duration": 0.04479,
     "end_time": "2023-03-13T09:49:28.241197",
     "exception": false,
     "start_time": "2023-03-13T09:49:28.196407",
     "status": "completed"
    },
    "tags": []
   },
   "outputs": [
    {
     "data": {
      "text/plain": [
       "(1859.6127129888841,\n",
       " 0.0,\n",
       " 1,\n",
       " array([[2697.68239736, 2741.31760264],\n",
       "        [1506.31760264, 1530.68239736]]))"
      ]
     },
     "execution_count": 15,
     "metadata": {},
     "output_type": "execute_result"
    }
   ],
   "source": [
    "cryo_cont_table = pd.crosstab(train_data['CryoSleep'], train_data['Transported'])\n",
    "stats.chi2_contingency(cryo_cont_table, correction=True)"
   ]
  },
  {
   "cell_type": "code",
   "execution_count": 16,
   "id": "8c9501de",
   "metadata": {
    "execution": {
     "iopub.execute_input": "2023-03-13T09:49:28.286789Z",
     "iopub.status.busy": "2023-03-13T09:49:28.286362Z",
     "iopub.status.idle": "2023-03-13T09:49:28.297100Z",
     "shell.execute_reply": "2023-03-13T09:49:28.295759Z"
    },
    "papermill": {
     "duration": 0.036292,
     "end_time": "2023-03-13T09:49:28.299635",
     "exception": false,
     "start_time": "2023-03-13T09:49:28.263343",
     "status": "completed"
    },
    "tags": []
   },
   "outputs": [],
   "source": [
    "train_data['CryoSleep'].fillna(train_data['CryoSleep'].mode()[0], inplace=True)\n",
    "test_data['CryoSleep'].fillna(test_data['CryoSleep'].mode()[0], inplace = True)"
   ]
  },
  {
   "cell_type": "code",
   "execution_count": 17,
   "id": "89d4e298",
   "metadata": {
    "execution": {
     "iopub.execute_input": "2023-03-13T09:49:28.344685Z",
     "iopub.status.busy": "2023-03-13T09:49:28.343965Z",
     "iopub.status.idle": "2023-03-13T09:49:28.355579Z",
     "shell.execute_reply": "2023-03-13T09:49:28.354432Z"
    },
    "papermill": {
     "duration": 0.036866,
     "end_time": "2023-03-13T09:49:28.357972",
     "exception": false,
     "start_time": "2023-03-13T09:49:28.321106",
     "status": "completed"
    },
    "tags": []
   },
   "outputs": [
    {
     "data": {
      "text/html": [
       "<div>\n",
       "<style scoped>\n",
       "    .dataframe tbody tr th:only-of-type {\n",
       "        vertical-align: middle;\n",
       "    }\n",
       "\n",
       "    .dataframe tbody tr th {\n",
       "        vertical-align: top;\n",
       "    }\n",
       "\n",
       "    .dataframe thead th {\n",
       "        text-align: right;\n",
       "    }\n",
       "</style>\n",
       "<table border=\"1\" class=\"dataframe\">\n",
       "  <thead>\n",
       "    <tr style=\"text-align: right;\">\n",
       "      <th></th>\n",
       "      <th>Cabin</th>\n",
       "    </tr>\n",
       "  </thead>\n",
       "  <tbody>\n",
       "    <tr>\n",
       "      <th>0</th>\n",
       "      <td>B/0/P</td>\n",
       "    </tr>\n",
       "    <tr>\n",
       "      <th>1</th>\n",
       "      <td>F/0/S</td>\n",
       "    </tr>\n",
       "    <tr>\n",
       "      <th>2</th>\n",
       "      <td>A/0/S</td>\n",
       "    </tr>\n",
       "    <tr>\n",
       "      <th>3</th>\n",
       "      <td>A/0/S</td>\n",
       "    </tr>\n",
       "    <tr>\n",
       "      <th>4</th>\n",
       "      <td>F/1/S</td>\n",
       "    </tr>\n",
       "  </tbody>\n",
       "</table>\n",
       "</div>"
      ],
      "text/plain": [
       "   Cabin\n",
       "0  B/0/P\n",
       "1  F/0/S\n",
       "2  A/0/S\n",
       "3  A/0/S\n",
       "4  F/1/S"
      ]
     },
     "execution_count": 17,
     "metadata": {},
     "output_type": "execute_result"
    }
   ],
   "source": [
    "train_data[['Cabin']].head()"
   ]
  },
  {
   "cell_type": "code",
   "execution_count": 18,
   "id": "32c620d6",
   "metadata": {
    "execution": {
     "iopub.execute_input": "2023-03-13T09:49:28.402779Z",
     "iopub.status.busy": "2023-03-13T09:49:28.402375Z",
     "iopub.status.idle": "2023-03-13T09:49:28.410095Z",
     "shell.execute_reply": "2023-03-13T09:49:28.408874Z"
    },
    "papermill": {
     "duration": 0.032859,
     "end_time": "2023-03-13T09:49:28.412333",
     "exception": false,
     "start_time": "2023-03-13T09:49:28.379474",
     "status": "completed"
    },
    "tags": []
   },
   "outputs": [],
   "source": [
    "train_data['Cabin'].fillna('0/0/0', inplace = True)\n",
    "test_data['Cabin'].fillna('0/0/0', inplace = True)"
   ]
  },
  {
   "cell_type": "code",
   "execution_count": 19,
   "id": "dc197e65",
   "metadata": {
    "execution": {
     "iopub.execute_input": "2023-03-13T09:49:28.457902Z",
     "iopub.status.busy": "2023-03-13T09:49:28.457478Z",
     "iopub.status.idle": "2023-03-13T09:49:28.469642Z",
     "shell.execute_reply": "2023-03-13T09:49:28.468531Z"
    },
    "papermill": {
     "duration": 0.03763,
     "end_time": "2023-03-13T09:49:28.472079",
     "exception": false,
     "start_time": "2023-03-13T09:49:28.434449",
     "status": "completed"
    },
    "tags": []
   },
   "outputs": [
    {
     "data": {
      "text/plain": [
       "Destination  \n",
       "TRAPPIST-1e      5915\n",
       "55 Cancri e      1800\n",
       "PSO J318.5-22     796\n",
       "NaN               182\n",
       "dtype: int64"
      ]
     },
     "execution_count": 19,
     "metadata": {},
     "output_type": "execute_result"
    }
   ],
   "source": [
    "train_data[['Destination']].value_counts(dropna=False)"
   ]
  },
  {
   "cell_type": "code",
   "execution_count": 20,
   "id": "45ceff1c",
   "metadata": {
    "execution": {
     "iopub.execute_input": "2023-03-13T09:49:28.517592Z",
     "iopub.status.busy": "2023-03-13T09:49:28.517164Z",
     "iopub.status.idle": "2023-03-13T09:49:28.526667Z",
     "shell.execute_reply": "2023-03-13T09:49:28.525476Z"
    },
    "papermill": {
     "duration": 0.034997,
     "end_time": "2023-03-13T09:49:28.528996",
     "exception": false,
     "start_time": "2023-03-13T09:49:28.493999",
     "status": "completed"
    },
    "tags": []
   },
   "outputs": [],
   "source": [
    "train_data['Destination'].fillna(train_data['Destination'].mode()[0], inplace=True)\n",
    "test_data['Destination'].fillna(test_data['Destination'].mode()[0], inplace=True)"
   ]
  },
  {
   "cell_type": "code",
   "execution_count": 21,
   "id": "0d719a96",
   "metadata": {
    "execution": {
     "iopub.execute_input": "2023-03-13T09:49:28.573731Z",
     "iopub.status.busy": "2023-03-13T09:49:28.573306Z",
     "iopub.status.idle": "2023-03-13T09:49:28.584954Z",
     "shell.execute_reply": "2023-03-13T09:49:28.583716Z"
    },
    "papermill": {
     "duration": 0.036997,
     "end_time": "2023-03-13T09:49:28.587402",
     "exception": false,
     "start_time": "2023-03-13T09:49:28.550405",
     "status": "completed"
    },
    "tags": []
   },
   "outputs": [
    {
     "data": {
      "text/html": [
       "<div>\n",
       "<style scoped>\n",
       "    .dataframe tbody tr th:only-of-type {\n",
       "        vertical-align: middle;\n",
       "    }\n",
       "\n",
       "    .dataframe tbody tr th {\n",
       "        vertical-align: top;\n",
       "    }\n",
       "\n",
       "    .dataframe thead th {\n",
       "        text-align: right;\n",
       "    }\n",
       "</style>\n",
       "<table border=\"1\" class=\"dataframe\">\n",
       "  <thead>\n",
       "    <tr style=\"text-align: right;\">\n",
       "      <th></th>\n",
       "      <th>Age</th>\n",
       "    </tr>\n",
       "  </thead>\n",
       "  <tbody>\n",
       "    <tr>\n",
       "      <th>0</th>\n",
       "      <td>39.0</td>\n",
       "    </tr>\n",
       "    <tr>\n",
       "      <th>1</th>\n",
       "      <td>24.0</td>\n",
       "    </tr>\n",
       "    <tr>\n",
       "      <th>2</th>\n",
       "      <td>58.0</td>\n",
       "    </tr>\n",
       "    <tr>\n",
       "      <th>3</th>\n",
       "      <td>33.0</td>\n",
       "    </tr>\n",
       "    <tr>\n",
       "      <th>4</th>\n",
       "      <td>16.0</td>\n",
       "    </tr>\n",
       "  </tbody>\n",
       "</table>\n",
       "</div>"
      ],
      "text/plain": [
       "    Age\n",
       "0  39.0\n",
       "1  24.0\n",
       "2  58.0\n",
       "3  33.0\n",
       "4  16.0"
      ]
     },
     "execution_count": 21,
     "metadata": {},
     "output_type": "execute_result"
    }
   ],
   "source": [
    "train_data[['Age']].head()"
   ]
  },
  {
   "cell_type": "code",
   "execution_count": 22,
   "id": "4713ac73",
   "metadata": {
    "execution": {
     "iopub.execute_input": "2023-03-13T09:49:28.632609Z",
     "iopub.status.busy": "2023-03-13T09:49:28.632235Z",
     "iopub.status.idle": "2023-03-13T09:49:28.639599Z",
     "shell.execute_reply": "2023-03-13T09:49:28.638471Z"
    },
    "papermill": {
     "duration": 0.032851,
     "end_time": "2023-03-13T09:49:28.641929",
     "exception": false,
     "start_time": "2023-03-13T09:49:28.609078",
     "status": "completed"
    },
    "tags": []
   },
   "outputs": [
    {
     "data": {
      "text/plain": [
       "numpy.float64"
      ]
     },
     "execution_count": 22,
     "metadata": {},
     "output_type": "execute_result"
    }
   ],
   "source": [
    "type(train_data['Age'].mean())"
   ]
  },
  {
   "cell_type": "code",
   "execution_count": 23,
   "id": "752e700d",
   "metadata": {
    "execution": {
     "iopub.execute_input": "2023-03-13T09:49:28.687537Z",
     "iopub.status.busy": "2023-03-13T09:49:28.687146Z",
     "iopub.status.idle": "2023-03-13T09:49:28.694288Z",
     "shell.execute_reply": "2023-03-13T09:49:28.693346Z"
    },
    "papermill": {
     "duration": 0.032535,
     "end_time": "2023-03-13T09:49:28.696321",
     "exception": false,
     "start_time": "2023-03-13T09:49:28.663786",
     "status": "completed"
    },
    "tags": []
   },
   "outputs": [],
   "source": [
    "train_data['Age'].fillna(train_data['Age'].mean(), inplace = True)\n",
    "test_data['Age'].fillna(test_data['Age'].mean(), inplace = True)"
   ]
  },
  {
   "cell_type": "code",
   "execution_count": 24,
   "id": "96174173",
   "metadata": {
    "execution": {
     "iopub.execute_input": "2023-03-13T09:49:28.741918Z",
     "iopub.status.busy": "2023-03-13T09:49:28.741457Z",
     "iopub.status.idle": "2023-03-13T09:49:28.754938Z",
     "shell.execute_reply": "2023-03-13T09:49:28.753617Z"
    },
    "papermill": {
     "duration": 0.03959,
     "end_time": "2023-03-13T09:49:28.757803",
     "exception": false,
     "start_time": "2023-03-13T09:49:28.718213",
     "status": "completed"
    },
    "tags": []
   },
   "outputs": [
    {
     "data": {
      "text/plain": [
       "VIP  \n",
       "False    8291\n",
       "NaN       203\n",
       "True      199\n",
       "dtype: int64"
      ]
     },
     "execution_count": 24,
     "metadata": {},
     "output_type": "execute_result"
    }
   ],
   "source": [
    "train_data[['VIP']].value_counts(dropna=False)"
   ]
  },
  {
   "cell_type": "code",
   "execution_count": 25,
   "id": "f5b98def",
   "metadata": {
    "execution": {
     "iopub.execute_input": "2023-03-13T09:49:28.804746Z",
     "iopub.status.busy": "2023-03-13T09:49:28.804324Z",
     "iopub.status.idle": "2023-03-13T09:49:28.814330Z",
     "shell.execute_reply": "2023-03-13T09:49:28.813298Z"
    },
    "papermill": {
     "duration": 0.036176,
     "end_time": "2023-03-13T09:49:28.816713",
     "exception": false,
     "start_time": "2023-03-13T09:49:28.780537",
     "status": "completed"
    },
    "tags": []
   },
   "outputs": [],
   "source": [
    "train_data['VIP'].fillna(train_data['VIP'].mode()[0], inplace = True)\n",
    "test_data['VIP'].fillna(test_data['VIP'].mode()[0], inplace = True)"
   ]
  },
  {
   "cell_type": "code",
   "execution_count": 26,
   "id": "adbf3dab",
   "metadata": {
    "execution": {
     "iopub.execute_input": "2023-03-13T09:49:28.864617Z",
     "iopub.status.busy": "2023-03-13T09:49:28.864202Z",
     "iopub.status.idle": "2023-03-13T09:49:28.876511Z",
     "shell.execute_reply": "2023-03-13T09:49:28.875519Z"
    },
    "papermill": {
     "duration": 0.039136,
     "end_time": "2023-03-13T09:49:28.879082",
     "exception": false,
     "start_time": "2023-03-13T09:49:28.839946",
     "status": "completed"
    },
    "tags": []
   },
   "outputs": [],
   "source": [
    "#RoomService\n",
    "train_data['RoomService'].fillna(0.0, inplace=True)\n",
    "test_data['RoomService'].fillna(0.0, inplace=True)\n",
    "\n",
    "#FoodCourt\n",
    "train_data['FoodCourt'].fillna(0.0, inplace=True)\n",
    "test_data['FoodCourt'].fillna(0.0, inplace=True)\n",
    "\n",
    "#ShoppingMall\n",
    "train_data['ShoppingMall'].fillna(0.0, inplace=True)\n",
    "test_data['ShoppingMall'].fillna(0.0, inplace=True)\n",
    "\n",
    "#Spa\n",
    "train_data['Spa'].fillna(0.0, inplace=True)\n",
    "test_data['Spa'].fillna(0.0, inplace=True)\n",
    "\n",
    "#VRDeck\n",
    "train_data['VRDeck'].fillna(0.0, inplace=True)\n",
    "test_data['VRDeck'].fillna(0.0, inplace=True)"
   ]
  },
  {
   "cell_type": "code",
   "execution_count": 27,
   "id": "622855b3",
   "metadata": {
    "execution": {
     "iopub.execute_input": "2023-03-13T09:49:28.926343Z",
     "iopub.status.busy": "2023-03-13T09:49:28.925927Z",
     "iopub.status.idle": "2023-03-13T09:49:28.934991Z",
     "shell.execute_reply": "2023-03-13T09:49:28.933745Z"
    },
    "papermill": {
     "duration": 0.035651,
     "end_time": "2023-03-13T09:49:28.937686",
     "exception": false,
     "start_time": "2023-03-13T09:49:28.902035",
     "status": "completed"
    },
    "tags": []
   },
   "outputs": [
    {
     "data": {
      "text/plain": [
       "PassengerId      object\n",
       "HomePlanet       object\n",
       "CryoSleep          bool\n",
       "Cabin            object\n",
       "Destination      object\n",
       "Age             float64\n",
       "VIP                bool\n",
       "RoomService     float64\n",
       "FoodCourt       float64\n",
       "ShoppingMall    float64\n",
       "Spa             float64\n",
       "VRDeck          float64\n",
       "Name             object\n",
       "Transported        bool\n",
       "dtype: object"
      ]
     },
     "execution_count": 27,
     "metadata": {},
     "output_type": "execute_result"
    }
   ],
   "source": [
    "train_data.dtypes"
   ]
  },
  {
   "cell_type": "code",
   "execution_count": 28,
   "id": "fd4a8938",
   "metadata": {
    "execution": {
     "iopub.execute_input": "2023-03-13T09:49:28.985827Z",
     "iopub.status.busy": "2023-03-13T09:49:28.985412Z",
     "iopub.status.idle": "2023-03-13T09:49:29.003812Z",
     "shell.execute_reply": "2023-03-13T09:49:29.002298Z"
    },
    "papermill": {
     "duration": 0.045767,
     "end_time": "2023-03-13T09:49:29.006465",
     "exception": false,
     "start_time": "2023-03-13T09:49:28.960698",
     "status": "completed"
    },
    "tags": []
   },
   "outputs": [
    {
     "data": {
      "text/html": [
       "<div>\n",
       "<style scoped>\n",
       "    .dataframe tbody tr th:only-of-type {\n",
       "        vertical-align: middle;\n",
       "    }\n",
       "\n",
       "    .dataframe tbody tr th {\n",
       "        vertical-align: top;\n",
       "    }\n",
       "\n",
       "    .dataframe thead th {\n",
       "        text-align: right;\n",
       "    }\n",
       "</style>\n",
       "<table border=\"1\" class=\"dataframe\">\n",
       "  <thead>\n",
       "    <tr style=\"text-align: right;\">\n",
       "      <th></th>\n",
       "      <th>Age</th>\n",
       "    </tr>\n",
       "  </thead>\n",
       "  <tbody>\n",
       "    <tr>\n",
       "      <th>count</th>\n",
       "      <td>8693.000000</td>\n",
       "    </tr>\n",
       "    <tr>\n",
       "      <th>mean</th>\n",
       "      <td>28.827930</td>\n",
       "    </tr>\n",
       "    <tr>\n",
       "      <th>std</th>\n",
       "      <td>14.339054</td>\n",
       "    </tr>\n",
       "    <tr>\n",
       "      <th>min</th>\n",
       "      <td>0.000000</td>\n",
       "    </tr>\n",
       "    <tr>\n",
       "      <th>25%</th>\n",
       "      <td>20.000000</td>\n",
       "    </tr>\n",
       "    <tr>\n",
       "      <th>50%</th>\n",
       "      <td>27.000000</td>\n",
       "    </tr>\n",
       "    <tr>\n",
       "      <th>75%</th>\n",
       "      <td>37.000000</td>\n",
       "    </tr>\n",
       "    <tr>\n",
       "      <th>max</th>\n",
       "      <td>79.000000</td>\n",
       "    </tr>\n",
       "  </tbody>\n",
       "</table>\n",
       "</div>"
      ],
      "text/plain": [
       "               Age\n",
       "count  8693.000000\n",
       "mean     28.827930\n",
       "std      14.339054\n",
       "min       0.000000\n",
       "25%      20.000000\n",
       "50%      27.000000\n",
       "75%      37.000000\n",
       "max      79.000000"
      ]
     },
     "execution_count": 28,
     "metadata": {},
     "output_type": "execute_result"
    }
   ],
   "source": [
    "train_data[['Age']].describe()"
   ]
  },
  {
   "cell_type": "code",
   "execution_count": 29,
   "id": "4d506ecb",
   "metadata": {
    "execution": {
     "iopub.execute_input": "2023-03-13T09:49:29.055195Z",
     "iopub.status.busy": "2023-03-13T09:49:29.054047Z",
     "iopub.status.idle": "2023-03-13T09:49:29.323496Z",
     "shell.execute_reply": "2023-03-13T09:49:29.322186Z"
    },
    "papermill": {
     "duration": 0.296416,
     "end_time": "2023-03-13T09:49:29.326522",
     "exception": false,
     "start_time": "2023-03-13T09:49:29.030106",
     "status": "completed"
    },
    "tags": []
   },
   "outputs": [
    {
     "data": {
      "text/plain": [
       "<AxesSubplot:xlabel='Transported', ylabel='Age'>"
      ]
     },
     "execution_count": 29,
     "metadata": {},
     "output_type": "execute_result"
    },
    {
     "data": {
      "image/png": "[encoded data removed]",
      "text/plain": [
       "<Figure size 640x480 with 1 Axes>"
      ]
     },
     "metadata": {},
     "output_type": "display_data"
    }
   ],
   "source": [
    "sns.boxplot(x='Transported', y='Age', data=train_data)"
   ]
  },
  {
   "cell_type": "code",
   "execution_count": 30,
   "id": "0bf26da9",
   "metadata": {
    "execution": {
     "iopub.execute_input": "2023-03-13T09:49:29.375558Z",
     "iopub.status.busy": "2023-03-13T09:49:29.375175Z",
     "iopub.status.idle": "2023-03-13T09:49:29.383703Z",
     "shell.execute_reply": "2023-03-13T09:49:29.382691Z"
    },
    "papermill": {
     "duration": 0.035677,
     "end_time": "2023-03-13T09:49:29.386139",
     "exception": false,
     "start_time": "2023-03-13T09:49:29.350462",
     "status": "completed"
    },
    "tags": []
   },
   "outputs": [
    {
     "data": {
      "text/plain": [
       "array([ 0. , 39.5, 79. ])"
      ]
     },
     "execution_count": 30,
     "metadata": {},
     "output_type": "execute_result"
    }
   ],
   "source": [
    "bins = np.linspace(train_data['Age'].min(), train_data['Age'].max(), 3)\n",
    "bins"
   ]
  },
  {
   "cell_type": "code",
   "execution_count": 31,
   "id": "d7203ef4",
   "metadata": {
    "execution": {
     "iopub.execute_input": "2023-03-13T09:49:29.434176Z",
     "iopub.status.busy": "2023-03-13T09:49:29.433502Z",
     "iopub.status.idle": "2023-03-13T09:49:29.441781Z",
     "shell.execute_reply": "2023-03-13T09:49:29.440958Z"
    },
    "papermill": {
     "duration": 0.035149,
     "end_time": "2023-03-13T09:49:29.444068",
     "exception": false,
     "start_time": "2023-03-13T09:49:29.408919",
     "status": "completed"
    },
    "tags": []
   },
   "outputs": [],
   "source": [
    "labels = ['young', 'old']\n",
    "train_data['Age'] = pd.cut(train_data['Age'], bins=bins, labels=labels, include_lowest=True)"
   ]
  },
  {
   "cell_type": "code",
   "execution_count": 32,
   "id": "41a88d84",
   "metadata": {
    "execution": {
     "iopub.execute_input": "2023-03-13T09:49:29.491374Z",
     "iopub.status.busy": "2023-03-13T09:49:29.490982Z",
     "iopub.status.idle": "2023-03-13T09:49:29.513333Z",
     "shell.execute_reply": "2023-03-13T09:49:29.511988Z"
    },
    "papermill": {
     "duration": 0.049092,
     "end_time": "2023-03-13T09:49:29.515794",
     "exception": false,
     "start_time": "2023-03-13T09:49:29.466702",
     "status": "completed"
    },
    "tags": []
   },
   "outputs": [
    {
     "data": {
      "text/html": [
       "<div>\n",
       "<style scoped>\n",
       "    .dataframe tbody tr th:only-of-type {\n",
       "        vertical-align: middle;\n",
       "    }\n",
       "\n",
       "    .dataframe tbody tr th {\n",
       "        vertical-align: top;\n",
       "    }\n",
       "\n",
       "    .dataframe thead th {\n",
       "        text-align: right;\n",
       "    }\n",
       "</style>\n",
       "<table border=\"1\" class=\"dataframe\">\n",
       "  <thead>\n",
       "    <tr style=\"text-align: right;\">\n",
       "      <th></th>\n",
       "      <th>PassengerId</th>\n",
       "      <th>HomePlanet</th>\n",
       "      <th>CryoSleep</th>\n",
       "      <th>Cabin</th>\n",
       "      <th>Destination</th>\n",
       "      <th>Age</th>\n",
       "      <th>VIP</th>\n",
       "      <th>RoomService</th>\n",
       "      <th>FoodCourt</th>\n",
       "      <th>ShoppingMall</th>\n",
       "      <th>Spa</th>\n",
       "      <th>VRDeck</th>\n",
       "      <th>Name</th>\n",
       "      <th>Transported</th>\n",
       "    </tr>\n",
       "  </thead>\n",
       "  <tbody>\n",
       "    <tr>\n",
       "      <th>0</th>\n",
       "      <td>0001_01</td>\n",
       "      <td>Europa</td>\n",
       "      <td>False</td>\n",
       "      <td>B/0/P</td>\n",
       "      <td>TRAPPIST-1e</td>\n",
       "      <td>young</td>\n",
       "      <td>False</td>\n",
       "      <td>0.0</td>\n",
       "      <td>0.0</td>\n",
       "      <td>0.0</td>\n",
       "      <td>0.0</td>\n",
       "      <td>0.0</td>\n",
       "      <td>Maham Ofracculy</td>\n",
       "      <td>False</td>\n",
       "    </tr>\n",
       "    <tr>\n",
       "      <th>1</th>\n",
       "      <td>0002_01</td>\n",
       "      <td>Earth</td>\n",
       "      <td>False</td>\n",
       "      <td>F/0/S</td>\n",
       "      <td>TRAPPIST-1e</td>\n",
       "      <td>young</td>\n",
       "      <td>False</td>\n",
       "      <td>109.0</td>\n",
       "      <td>9.0</td>\n",
       "      <td>25.0</td>\n",
       "      <td>549.0</td>\n",
       "      <td>44.0</td>\n",
       "      <td>Juanna Vines</td>\n",
       "      <td>True</td>\n",
       "    </tr>\n",
       "    <tr>\n",
       "      <th>2</th>\n",
       "      <td>0003_01</td>\n",
       "      <td>Europa</td>\n",
       "      <td>False</td>\n",
       "      <td>A/0/S</td>\n",
       "      <td>TRAPPIST-1e</td>\n",
       "      <td>old</td>\n",
       "      <td>True</td>\n",
       "      <td>43.0</td>\n",
       "      <td>3576.0</td>\n",
       "      <td>0.0</td>\n",
       "      <td>6715.0</td>\n",
       "      <td>49.0</td>\n",
       "      <td>Altark Susent</td>\n",
       "      <td>False</td>\n",
       "    </tr>\n",
       "    <tr>\n",
       "      <th>3</th>\n",
       "      <td>0003_02</td>\n",
       "      <td>Europa</td>\n",
       "      <td>False</td>\n",
       "      <td>A/0/S</td>\n",
       "      <td>TRAPPIST-1e</td>\n",
       "      <td>young</td>\n",
       "      <td>False</td>\n",
       "      <td>0.0</td>\n",
       "      <td>1283.0</td>\n",
       "      <td>371.0</td>\n",
       "      <td>3329.0</td>\n",
       "      <td>193.0</td>\n",
       "      <td>Solam Susent</td>\n",
       "      <td>False</td>\n",
       "    </tr>\n",
       "    <tr>\n",
       "      <th>4</th>\n",
       "      <td>0004_01</td>\n",
       "      <td>Earth</td>\n",
       "      <td>False</td>\n",
       "      <td>F/1/S</td>\n",
       "      <td>TRAPPIST-1e</td>\n",
       "      <td>young</td>\n",
       "      <td>False</td>\n",
       "      <td>303.0</td>\n",
       "      <td>70.0</td>\n",
       "      <td>151.0</td>\n",
       "      <td>565.0</td>\n",
       "      <td>2.0</td>\n",
       "      <td>Willy Santantines</td>\n",
       "      <td>True</td>\n",
       "    </tr>\n",
       "  </tbody>\n",
       "</table>\n",
       "</div>"
      ],
      "text/plain": [
       "  PassengerId HomePlanet  CryoSleep  Cabin  Destination    Age    VIP  \\\n",
       "0     0001_01     Europa      False  B/0/P  TRAPPIST-1e  young  False   \n",
       "1     0002_01      Earth      False  F/0/S  TRAPPIST-1e  young  False   \n",
       "2     0003_01     Europa      False  A/0/S  TRAPPIST-1e    old   True   \n",
       "3     0003_02     Europa      False  A/0/S  TRAPPIST-1e  young  False   \n",
       "4     0004_01      Earth      False  F/1/S  TRAPPIST-1e  young  False   \n",
       "\n",
       "   RoomService  FoodCourt  ShoppingMall     Spa  VRDeck               Name  \\\n",
       "0          0.0        0.0           0.0     0.0     0.0    Maham Ofracculy   \n",
       "1        109.0        9.0          25.0   549.0    44.0       Juanna Vines   \n",
       "2         43.0     3576.0           0.0  6715.0    49.0      Altark Susent   \n",
       "3          0.0     1283.0         371.0  3329.0   193.0       Solam Susent   \n",
       "4        303.0       70.0         151.0   565.0     2.0  Willy Santantines   \n",
       "\n",
       "   Transported  \n",
       "0        False  \n",
       "1         True  \n",
       "2        False  \n",
       "3        False  \n",
       "4         True  "
      ]
     },
     "execution_count": 32,
     "metadata": {},
     "output_type": "execute_result"
    }
   ],
   "source": [
    "train_data.head()"
   ]
  },
  {
   "cell_type": "code",
   "execution_count": 33,
   "id": "2fda5a4c",
   "metadata": {
    "execution": {
     "iopub.execute_input": "2023-03-13T09:49:29.565879Z",
     "iopub.status.busy": "2023-03-13T09:49:29.564482Z",
     "iopub.status.idle": "2023-03-13T09:49:29.574348Z",
     "shell.execute_reply": "2023-03-13T09:49:29.573007Z"
    },
    "papermill": {
     "duration": 0.037567,
     "end_time": "2023-03-13T09:49:29.577146",
     "exception": false,
     "start_time": "2023-03-13T09:49:29.539579",
     "status": "completed"
    },
    "tags": []
   },
   "outputs": [],
   "source": [
    "test_data['Age'] = pd.cut(test_data['Age'], bins=bins, labels=labels, include_lowest=True)"
   ]
  },
  {
   "cell_type": "code",
   "execution_count": 34,
   "id": "1c0175c8",
   "metadata": {
    "execution": {
     "iopub.execute_input": "2023-03-13T09:49:29.627857Z",
     "iopub.status.busy": "2023-03-13T09:49:29.627410Z",
     "iopub.status.idle": "2023-03-13T09:49:29.649334Z",
     "shell.execute_reply": "2023-03-13T09:49:29.647772Z"
    },
    "papermill": {
     "duration": 0.050696,
     "end_time": "2023-03-13T09:49:29.652124",
     "exception": false,
     "start_time": "2023-03-13T09:49:29.601428",
     "status": "completed"
    },
    "tags": []
   },
   "outputs": [
    {
     "data": {
      "text/html": [
       "<div>\n",
       "<style scoped>\n",
       "    .dataframe tbody tr th:only-of-type {\n",
       "        vertical-align: middle;\n",
       "    }\n",
       "\n",
       "    .dataframe tbody tr th {\n",
       "        vertical-align: top;\n",
       "    }\n",
       "\n",
       "    .dataframe thead th {\n",
       "        text-align: right;\n",
       "    }\n",
       "</style>\n",
       "<table border=\"1\" class=\"dataframe\">\n",
       "  <thead>\n",
       "    <tr style=\"text-align: right;\">\n",
       "      <th></th>\n",
       "      <th>PassengerId</th>\n",
       "      <th>HomePlanet</th>\n",
       "      <th>CryoSleep</th>\n",
       "      <th>Cabin</th>\n",
       "      <th>Destination</th>\n",
       "      <th>Age</th>\n",
       "      <th>VIP</th>\n",
       "      <th>RoomService</th>\n",
       "      <th>FoodCourt</th>\n",
       "      <th>ShoppingMall</th>\n",
       "      <th>Spa</th>\n",
       "      <th>VRDeck</th>\n",
       "      <th>Name</th>\n",
       "    </tr>\n",
       "  </thead>\n",
       "  <tbody>\n",
       "    <tr>\n",
       "      <th>0</th>\n",
       "      <td>0013_01</td>\n",
       "      <td>Earth</td>\n",
       "      <td>True</td>\n",
       "      <td>G/3/S</td>\n",
       "      <td>TRAPPIST-1e</td>\n",
       "      <td>young</td>\n",
       "      <td>False</td>\n",
       "      <td>0.0</td>\n",
       "      <td>0.0</td>\n",
       "      <td>0.0</td>\n",
       "      <td>0.0</td>\n",
       "      <td>0.0</td>\n",
       "      <td>Nelly Carsoning</td>\n",
       "    </tr>\n",
       "    <tr>\n",
       "      <th>1</th>\n",
       "      <td>0018_01</td>\n",
       "      <td>Earth</td>\n",
       "      <td>False</td>\n",
       "      <td>F/4/S</td>\n",
       "      <td>TRAPPIST-1e</td>\n",
       "      <td>young</td>\n",
       "      <td>False</td>\n",
       "      <td>0.0</td>\n",
       "      <td>9.0</td>\n",
       "      <td>0.0</td>\n",
       "      <td>2823.0</td>\n",
       "      <td>0.0</td>\n",
       "      <td>Lerome Peckers</td>\n",
       "    </tr>\n",
       "    <tr>\n",
       "      <th>2</th>\n",
       "      <td>0019_01</td>\n",
       "      <td>Europa</td>\n",
       "      <td>True</td>\n",
       "      <td>C/0/S</td>\n",
       "      <td>55 Cancri e</td>\n",
       "      <td>young</td>\n",
       "      <td>False</td>\n",
       "      <td>0.0</td>\n",
       "      <td>0.0</td>\n",
       "      <td>0.0</td>\n",
       "      <td>0.0</td>\n",
       "      <td>0.0</td>\n",
       "      <td>Sabih Unhearfus</td>\n",
       "    </tr>\n",
       "    <tr>\n",
       "      <th>3</th>\n",
       "      <td>0021_01</td>\n",
       "      <td>Europa</td>\n",
       "      <td>False</td>\n",
       "      <td>C/1/S</td>\n",
       "      <td>TRAPPIST-1e</td>\n",
       "      <td>young</td>\n",
       "      <td>False</td>\n",
       "      <td>0.0</td>\n",
       "      <td>6652.0</td>\n",
       "      <td>0.0</td>\n",
       "      <td>181.0</td>\n",
       "      <td>585.0</td>\n",
       "      <td>Meratz Caltilter</td>\n",
       "    </tr>\n",
       "    <tr>\n",
       "      <th>4</th>\n",
       "      <td>0023_01</td>\n",
       "      <td>Earth</td>\n",
       "      <td>False</td>\n",
       "      <td>F/5/S</td>\n",
       "      <td>TRAPPIST-1e</td>\n",
       "      <td>young</td>\n",
       "      <td>False</td>\n",
       "      <td>10.0</td>\n",
       "      <td>0.0</td>\n",
       "      <td>635.0</td>\n",
       "      <td>0.0</td>\n",
       "      <td>0.0</td>\n",
       "      <td>Brence Harperez</td>\n",
       "    </tr>\n",
       "  </tbody>\n",
       "</table>\n",
       "</div>"
      ],
      "text/plain": [
       "  PassengerId HomePlanet  CryoSleep  Cabin  Destination    Age    VIP  \\\n",
       "0     0013_01      Earth       True  G/3/S  TRAPPIST-1e  young  False   \n",
       "1     0018_01      Earth      False  F/4/S  TRAPPIST-1e  young  False   \n",
       "2     0019_01     Europa       True  C/0/S  55 Cancri e  young  False   \n",
       "3     0021_01     Europa      False  C/1/S  TRAPPIST-1e  young  False   \n",
       "4     0023_01      Earth      False  F/5/S  TRAPPIST-1e  young  False   \n",
       "\n",
       "   RoomService  FoodCourt  ShoppingMall     Spa  VRDeck              Name  \n",
       "0          0.0        0.0           0.0     0.0     0.0   Nelly Carsoning  \n",
       "1          0.0        9.0           0.0  2823.0     0.0    Lerome Peckers  \n",
       "2          0.0        0.0           0.0     0.0     0.0   Sabih Unhearfus  \n",
       "3          0.0     6652.0           0.0   181.0   585.0  Meratz Caltilter  \n",
       "4         10.0        0.0         635.0     0.0     0.0   Brence Harperez  "
      ]
     },
     "execution_count": 34,
     "metadata": {},
     "output_type": "execute_result"
    }
   ],
   "source": [
    "test_data.head()"
   ]
  },
  {
   "cell_type": "code",
   "execution_count": 35,
   "id": "ff2dd332",
   "metadata": {
    "execution": {
     "iopub.execute_input": "2023-03-13T09:49:29.702204Z",
     "iopub.status.busy": "2023-03-13T09:49:29.701294Z",
     "iopub.status.idle": "2023-03-13T09:49:29.722928Z",
     "shell.execute_reply": "2023-03-13T09:49:29.721643Z"
    },
    "papermill": {
     "duration": 0.04895,
     "end_time": "2023-03-13T09:49:29.725415",
     "exception": false,
     "start_time": "2023-03-13T09:49:29.676465",
     "status": "completed"
    },
    "tags": []
   },
   "outputs": [
    {
     "data": {
      "text/html": [
       "<div>\n",
       "<style scoped>\n",
       "    .dataframe tbody tr th:only-of-type {\n",
       "        vertical-align: middle;\n",
       "    }\n",
       "\n",
       "    .dataframe tbody tr th {\n",
       "        vertical-align: top;\n",
       "    }\n",
       "\n",
       "    .dataframe thead th {\n",
       "        text-align: right;\n",
       "    }\n",
       "</style>\n",
       "<table border=\"1\" class=\"dataframe\">\n",
       "  <thead>\n",
       "    <tr style=\"text-align: right;\">\n",
       "      <th></th>\n",
       "      <th>PassengerId</th>\n",
       "      <th>HomePlanet</th>\n",
       "      <th>CryoSleep</th>\n",
       "      <th>Cabin</th>\n",
       "      <th>Destination</th>\n",
       "      <th>Age</th>\n",
       "      <th>VIP</th>\n",
       "      <th>RoomService</th>\n",
       "      <th>FoodCourt</th>\n",
       "      <th>ShoppingMall</th>\n",
       "      <th>Spa</th>\n",
       "      <th>VRDeck</th>\n",
       "      <th>Name</th>\n",
       "      <th>Transported</th>\n",
       "    </tr>\n",
       "  </thead>\n",
       "  <tbody>\n",
       "    <tr>\n",
       "      <th>0</th>\n",
       "      <td>0001_01</td>\n",
       "      <td>Europa</td>\n",
       "      <td>False</td>\n",
       "      <td>B/0/P</td>\n",
       "      <td>TRAPPIST-1e</td>\n",
       "      <td>young</td>\n",
       "      <td>False</td>\n",
       "      <td>0.0</td>\n",
       "      <td>0.0</td>\n",
       "      <td>0.0</td>\n",
       "      <td>0.0</td>\n",
       "      <td>0.0</td>\n",
       "      <td>Maham Ofracculy</td>\n",
       "      <td>False</td>\n",
       "    </tr>\n",
       "    <tr>\n",
       "      <th>1</th>\n",
       "      <td>0002_01</td>\n",
       "      <td>Earth</td>\n",
       "      <td>False</td>\n",
       "      <td>F/0/S</td>\n",
       "      <td>TRAPPIST-1e</td>\n",
       "      <td>young</td>\n",
       "      <td>False</td>\n",
       "      <td>109.0</td>\n",
       "      <td>9.0</td>\n",
       "      <td>25.0</td>\n",
       "      <td>549.0</td>\n",
       "      <td>44.0</td>\n",
       "      <td>Juanna Vines</td>\n",
       "      <td>True</td>\n",
       "    </tr>\n",
       "    <tr>\n",
       "      <th>2</th>\n",
       "      <td>0003_01</td>\n",
       "      <td>Europa</td>\n",
       "      <td>False</td>\n",
       "      <td>A/0/S</td>\n",
       "      <td>TRAPPIST-1e</td>\n",
       "      <td>old</td>\n",
       "      <td>True</td>\n",
       "      <td>43.0</td>\n",
       "      <td>3576.0</td>\n",
       "      <td>0.0</td>\n",
       "      <td>6715.0</td>\n",
       "      <td>49.0</td>\n",
       "      <td>Altark Susent</td>\n",
       "      <td>False</td>\n",
       "    </tr>\n",
       "    <tr>\n",
       "      <th>3</th>\n",
       "      <td>0003_02</td>\n",
       "      <td>Europa</td>\n",
       "      <td>False</td>\n",
       "      <td>A/0/S</td>\n",
       "      <td>TRAPPIST-1e</td>\n",
       "      <td>young</td>\n",
       "      <td>False</td>\n",
       "      <td>0.0</td>\n",
       "      <td>1283.0</td>\n",
       "      <td>371.0</td>\n",
       "      <td>3329.0</td>\n",
       "      <td>193.0</td>\n",
       "      <td>Solam Susent</td>\n",
       "      <td>False</td>\n",
       "    </tr>\n",
       "    <tr>\n",
       "      <th>4</th>\n",
       "      <td>0004_01</td>\n",
       "      <td>Earth</td>\n",
       "      <td>False</td>\n",
       "      <td>F/1/S</td>\n",
       "      <td>TRAPPIST-1e</td>\n",
       "      <td>young</td>\n",
       "      <td>False</td>\n",
       "      <td>303.0</td>\n",
       "      <td>70.0</td>\n",
       "      <td>151.0</td>\n",
       "      <td>565.0</td>\n",
       "      <td>2.0</td>\n",
       "      <td>Willy Santantines</td>\n",
       "      <td>True</td>\n",
       "    </tr>\n",
       "  </tbody>\n",
       "</table>\n",
       "</div>"
      ],
      "text/plain": [
       "  PassengerId HomePlanet  CryoSleep  Cabin  Destination    Age    VIP  \\\n",
       "0     0001_01     Europa      False  B/0/P  TRAPPIST-1e  young  False   \n",
       "1     0002_01      Earth      False  F/0/S  TRAPPIST-1e  young  False   \n",
       "2     0003_01     Europa      False  A/0/S  TRAPPIST-1e    old   True   \n",
       "3     0003_02     Europa      False  A/0/S  TRAPPIST-1e  young  False   \n",
       "4     0004_01      Earth      False  F/1/S  TRAPPIST-1e  young  False   \n",
       "\n",
       "   RoomService  FoodCourt  ShoppingMall     Spa  VRDeck               Name  \\\n",
       "0          0.0        0.0           0.0     0.0     0.0    Maham Ofracculy   \n",
       "1        109.0        9.0          25.0   549.0    44.0       Juanna Vines   \n",
       "2         43.0     3576.0           0.0  6715.0    49.0      Altark Susent   \n",
       "3          0.0     1283.0         371.0  3329.0   193.0       Solam Susent   \n",
       "4        303.0       70.0         151.0   565.0     2.0  Willy Santantines   \n",
       "\n",
       "   Transported  \n",
       "0        False  \n",
       "1         True  \n",
       "2        False  \n",
       "3        False  \n",
       "4         True  "
      ]
     },
     "execution_count": 35,
     "metadata": {},
     "output_type": "execute_result"
    }
   ],
   "source": [
    "train_data.head()"
   ]
  },
  {
   "cell_type": "code",
   "execution_count": 36,
   "id": "b19e39c9",
   "metadata": {
    "execution": {
     "iopub.execute_input": "2023-03-13T09:49:29.774787Z",
     "iopub.status.busy": "2023-03-13T09:49:29.774386Z",
     "iopub.status.idle": "2023-03-13T09:49:29.780536Z",
     "shell.execute_reply": "2023-03-13T09:49:29.778990Z"
    },
    "papermill": {
     "duration": 0.033889,
     "end_time": "2023-03-13T09:49:29.783102",
     "exception": false,
     "start_time": "2023-03-13T09:49:29.749213",
     "status": "completed"
    },
    "tags": []
   },
   "outputs": [],
   "source": [
    "passenger_id = test_data['PassengerId']"
   ]
  },
  {
   "cell_type": "code",
   "execution_count": 37,
   "id": "1942264c",
   "metadata": {
    "execution": {
     "iopub.execute_input": "2023-03-13T09:49:29.834493Z",
     "iopub.status.busy": "2023-03-13T09:49:29.834077Z",
     "iopub.status.idle": "2023-03-13T09:49:29.840581Z",
     "shell.execute_reply": "2023-03-13T09:49:29.839369Z"
    },
    "papermill": {
     "duration": 0.035501,
     "end_time": "2023-03-13T09:49:29.842998",
     "exception": false,
     "start_time": "2023-03-13T09:49:29.807497",
     "status": "completed"
    },
    "tags": []
   },
   "outputs": [],
   "source": [
    "def drops_col(df):\n",
    "    \"\"\"\n",
    "    The folllowing function drops the passengeriD and Name columns from a dataframe\n",
    "    and returns the dataframe\n",
    "    \"\"\"   \n",
    "    df.drop('PassengerId', axis=1, inplace=True)\n",
    "    df.drop('Name', axis=1, inplace=True)\n",
    "    \n",
    "    return df"
   ]
  },
  {
   "cell_type": "code",
   "execution_count": 38,
   "id": "425c1570",
   "metadata": {
    "execution": {
     "iopub.execute_input": "2023-03-13T09:49:29.893800Z",
     "iopub.status.busy": "2023-03-13T09:49:29.893387Z",
     "iopub.status.idle": "2023-03-13T09:49:29.903263Z",
     "shell.execute_reply": "2023-03-13T09:49:29.902284Z"
    },
    "papermill": {
     "duration": 0.038663,
     "end_time": "2023-03-13T09:49:29.905843",
     "exception": false,
     "start_time": "2023-03-13T09:49:29.867180",
     "status": "completed"
    },
    "tags": []
   },
   "outputs": [],
   "source": [
    "fe_train_data = drops_col(train_data)\n",
    "fe_test_data = drops_col(test_data)"
   ]
  },
  {
   "cell_type": "code",
   "execution_count": 39,
   "id": "4aefc7e2",
   "metadata": {
    "execution": {
     "iopub.execute_input": "2023-03-13T09:49:29.955815Z",
     "iopub.status.busy": "2023-03-13T09:49:29.955389Z",
     "iopub.status.idle": "2023-03-13T09:49:29.963502Z",
     "shell.execute_reply": "2023-03-13T09:49:29.962356Z"
    },
    "papermill": {
     "duration": 0.035914,
     "end_time": "2023-03-13T09:49:29.965998",
     "exception": false,
     "start_time": "2023-03-13T09:49:29.930084",
     "status": "completed"
    },
    "tags": []
   },
   "outputs": [],
   "source": [
    "def cabin_col(df):\n",
    "    \"\"\"\n",
    "    The function takes in a dataframe, splits the cabin column into two the cabin deck and cabin side\n",
    "    it appends the two into the dataframe, drops the cabin column and returns the dataframe\n",
    "    \"\"\"\n",
    "    cabin_list = df['Cabin'].to_list()\n",
    "    deck = []\n",
    "    side = []\n",
    "    \n",
    "    for i in cabin_list:\n",
    "        deck.append(i.split('/')[0])\n",
    "        side.append(i.split('/')[-1])\n",
    "        \n",
    "    df['cabin_deck'] = deck\n",
    "    df['cabin_side'] = side\n",
    "    \n",
    "    df.drop('Cabin', axis=1, inplace=True)\n",
    "    \n",
    "    return df"
   ]
  },
  {
   "cell_type": "code",
   "execution_count": 40,
   "id": "498abfef",
   "metadata": {
    "execution": {
     "iopub.execute_input": "2023-03-13T09:49:30.016859Z",
     "iopub.status.busy": "2023-03-13T09:49:30.015648Z",
     "iopub.status.idle": "2023-03-13T09:49:30.037339Z",
     "shell.execute_reply": "2023-03-13T09:49:30.036301Z"
    },
    "papermill": {
     "duration": 0.050166,
     "end_time": "2023-03-13T09:49:30.039953",
     "exception": false,
     "start_time": "2023-03-13T09:49:29.989787",
     "status": "completed"
    },
    "tags": []
   },
   "outputs": [],
   "source": [
    "fe_train_data = cabin_col(fe_train_data)\n",
    "fe_test_data = cabin_col(fe_test_data)"
   ]
  },
  {
   "cell_type": "code",
   "execution_count": 41,
   "id": "b3b8e175",
   "metadata": {
    "execution": {
     "iopub.execute_input": "2023-03-13T09:49:30.089366Z",
     "iopub.status.busy": "2023-03-13T09:49:30.088476Z",
     "iopub.status.idle": "2023-03-13T09:49:30.096507Z",
     "shell.execute_reply": "2023-03-13T09:49:30.095449Z"
    },
    "papermill": {
     "duration": 0.035323,
     "end_time": "2023-03-13T09:49:30.098878",
     "exception": false,
     "start_time": "2023-03-13T09:49:30.063555",
     "status": "completed"
    },
    "tags": []
   },
   "outputs": [],
   "source": [
    "def total_ammenities(df):\n",
    "    \"\"\"\n",
    "    The following takes in a dataframe and adds all the ammenties used into one column called amenities,\n",
    "    drops the individual ammenities and returns the dataframe\n",
    "    \"\"\"\n",
    "    df['total_amenities'] = df['RoomService'] + df['FoodCourt'] + df['ShoppingMall'] + df['Spa'] + df['VRDeck']\n",
    "    \n",
    "    df.drop('RoomService', axis = 1, inplace = True)\n",
    "    df.drop('FoodCourt', axis = 1, inplace = True)\n",
    "    df.drop('ShoppingMall', axis = 1, inplace = True)\n",
    "    df.drop('Spa', axis = 1, inplace = True)\n",
    "    df.drop('VRDeck', axis = 1, inplace = True)\n",
    "    \n",
    "    return df\n",
    "  "
   ]
  },
  {
   "cell_type": "code",
   "execution_count": 42,
   "id": "a3a41f3d",
   "metadata": {
    "execution": {
     "iopub.execute_input": "2023-03-13T09:49:30.149915Z",
     "iopub.status.busy": "2023-03-13T09:49:30.148677Z",
     "iopub.status.idle": "2023-03-13T09:49:30.168467Z",
     "shell.execute_reply": "2023-03-13T09:49:30.167317Z"
    },
    "papermill": {
     "duration": 0.048059,
     "end_time": "2023-03-13T09:49:30.171291",
     "exception": false,
     "start_time": "2023-03-13T09:49:30.123232",
     "status": "completed"
    },
    "tags": []
   },
   "outputs": [],
   "source": [
    "fe_train_data = total_ammenities(fe_train_data)\n",
    "fe_test_data = total_ammenities(fe_test_data)"
   ]
  },
  {
   "cell_type": "code",
   "execution_count": 43,
   "id": "1159b75f",
   "metadata": {
    "execution": {
     "iopub.execute_input": "2023-03-13T09:49:30.222549Z",
     "iopub.status.busy": "2023-03-13T09:49:30.221559Z",
     "iopub.status.idle": "2023-03-13T09:49:30.239100Z",
     "shell.execute_reply": "2023-03-13T09:49:30.237850Z"
    },
    "papermill": {
     "duration": 0.046169,
     "end_time": "2023-03-13T09:49:30.241543",
     "exception": false,
     "start_time": "2023-03-13T09:49:30.195374",
     "status": "completed"
    },
    "tags": []
   },
   "outputs": [
    {
     "data": {
      "text/html": [
       "<div>\n",
       "<style scoped>\n",
       "    .dataframe tbody tr th:only-of-type {\n",
       "        vertical-align: middle;\n",
       "    }\n",
       "\n",
       "    .dataframe tbody tr th {\n",
       "        vertical-align: top;\n",
       "    }\n",
       "\n",
       "    .dataframe thead th {\n",
       "        text-align: right;\n",
       "    }\n",
       "</style>\n",
       "<table border=\"1\" class=\"dataframe\">\n",
       "  <thead>\n",
       "    <tr style=\"text-align: right;\">\n",
       "      <th></th>\n",
       "      <th>HomePlanet</th>\n",
       "      <th>CryoSleep</th>\n",
       "      <th>Destination</th>\n",
       "      <th>Age</th>\n",
       "      <th>VIP</th>\n",
       "      <th>Transported</th>\n",
       "      <th>cabin_deck</th>\n",
       "      <th>cabin_side</th>\n",
       "      <th>total_amenities</th>\n",
       "    </tr>\n",
       "  </thead>\n",
       "  <tbody>\n",
       "    <tr>\n",
       "      <th>0</th>\n",
       "      <td>Europa</td>\n",
       "      <td>False</td>\n",
       "      <td>TRAPPIST-1e</td>\n",
       "      <td>young</td>\n",
       "      <td>False</td>\n",
       "      <td>False</td>\n",
       "      <td>B</td>\n",
       "      <td>P</td>\n",
       "      <td>0.0</td>\n",
       "    </tr>\n",
       "    <tr>\n",
       "      <th>1</th>\n",
       "      <td>Earth</td>\n",
       "      <td>False</td>\n",
       "      <td>TRAPPIST-1e</td>\n",
       "      <td>young</td>\n",
       "      <td>False</td>\n",
       "      <td>True</td>\n",
       "      <td>F</td>\n",
       "      <td>S</td>\n",
       "      <td>736.0</td>\n",
       "    </tr>\n",
       "    <tr>\n",
       "      <th>2</th>\n",
       "      <td>Europa</td>\n",
       "      <td>False</td>\n",
       "      <td>TRAPPIST-1e</td>\n",
       "      <td>old</td>\n",
       "      <td>True</td>\n",
       "      <td>False</td>\n",
       "      <td>A</td>\n",
       "      <td>S</td>\n",
       "      <td>10383.0</td>\n",
       "    </tr>\n",
       "    <tr>\n",
       "      <th>3</th>\n",
       "      <td>Europa</td>\n",
       "      <td>False</td>\n",
       "      <td>TRAPPIST-1e</td>\n",
       "      <td>young</td>\n",
       "      <td>False</td>\n",
       "      <td>False</td>\n",
       "      <td>A</td>\n",
       "      <td>S</td>\n",
       "      <td>5176.0</td>\n",
       "    </tr>\n",
       "    <tr>\n",
       "      <th>4</th>\n",
       "      <td>Earth</td>\n",
       "      <td>False</td>\n",
       "      <td>TRAPPIST-1e</td>\n",
       "      <td>young</td>\n",
       "      <td>False</td>\n",
       "      <td>True</td>\n",
       "      <td>F</td>\n",
       "      <td>S</td>\n",
       "      <td>1091.0</td>\n",
       "    </tr>\n",
       "  </tbody>\n",
       "</table>\n",
       "</div>"
      ],
      "text/plain": [
       "  HomePlanet  CryoSleep  Destination    Age    VIP  Transported cabin_deck  \\\n",
       "0     Europa      False  TRAPPIST-1e  young  False        False          B   \n",
       "1      Earth      False  TRAPPIST-1e  young  False         True          F   \n",
       "2     Europa      False  TRAPPIST-1e    old   True        False          A   \n",
       "3     Europa      False  TRAPPIST-1e  young  False        False          A   \n",
       "4      Earth      False  TRAPPIST-1e  young  False         True          F   \n",
       "\n",
       "  cabin_side  total_amenities  \n",
       "0          P              0.0  \n",
       "1          S            736.0  \n",
       "2          S          10383.0  \n",
       "3          S           5176.0  \n",
       "4          S           1091.0  "
      ]
     },
     "execution_count": 43,
     "metadata": {},
     "output_type": "execute_result"
    }
   ],
   "source": [
    "fe_train_data.head()"
   ]
  },
  {
   "cell_type": "code",
   "execution_count": 44,
   "id": "ccd01a82",
   "metadata": {
    "execution": {
     "iopub.execute_input": "2023-03-13T09:49:30.292261Z",
     "iopub.status.busy": "2023-03-13T09:49:30.291411Z",
     "iopub.status.idle": "2023-03-13T09:49:30.311005Z",
     "shell.execute_reply": "2023-03-13T09:49:30.309635Z"
    },
    "papermill": {
     "duration": 0.048301,
     "end_time": "2023-03-13T09:49:30.313935",
     "exception": false,
     "start_time": "2023-03-13T09:49:30.265634",
     "status": "completed"
    },
    "tags": []
   },
   "outputs": [
    {
     "name": "stdout",
     "output_type": "stream",
     "text": [
      "The p_value is  5.549631517016864e-70 There is evidence of association between the variables\n"
     ]
    }
   ],
   "source": [
    "hp_cont_table = pd.crosstab(fe_train_data['HomePlanet'], fe_train_data['Transported'])\n",
    "hp_p_value = stats.chi2_contingency(hp_cont_table, correction=True)[1]\n",
    "\n",
    "if hp_p_value < 0.05:\n",
    "    print('The p_value is ', hp_p_value, 'There is evidence of association between the variables')\n",
    "else:\n",
    "    print('The p_value is ', hp_p_value, 'There is no evidence of association between the variables')  "
   ]
  },
  {
   "cell_type": "code",
   "execution_count": 45,
   "id": "8b974b29",
   "metadata": {
    "execution": {
     "iopub.execute_input": "2023-03-13T09:49:30.365869Z",
     "iopub.status.busy": "2023-03-13T09:49:30.365062Z",
     "iopub.status.idle": "2023-03-13T09:49:30.384171Z",
     "shell.execute_reply": "2023-03-13T09:49:30.382766Z"
    },
    "papermill": {
     "duration": 0.048598,
     "end_time": "2023-03-13T09:49:30.386857",
     "exception": false,
     "start_time": "2023-03-13T09:49:30.338259",
     "status": "completed"
    },
    "tags": []
   },
   "outputs": [
    {
     "name": "stdout",
     "output_type": "stream",
     "text": [
      "The p_value is  0.0 There is evidence of association between the variables\n"
     ]
    }
   ],
   "source": [
    "cs_cont_table = pd.crosstab(fe_train_data['CryoSleep'], fe_train_data['Transported'])\n",
    "cs_p_value = stats.chi2_contingency(cs_cont_table, correction=True)[1]\n",
    "\n",
    "if cs_p_value < 0.05:\n",
    "    print('The p_value is ', cs_p_value, 'There is evidence of association between the variables')\n",
    "else:\n",
    "    print('The p_value is ', cs_p_value, 'There is no evidence of association between the variables') "
   ]
  },
  {
   "cell_type": "code",
   "execution_count": 46,
   "id": "7d534a3c",
   "metadata": {
    "execution": {
     "iopub.execute_input": "2023-03-13T09:49:30.437752Z",
     "iopub.status.busy": "2023-03-13T09:49:30.437329Z",
     "iopub.status.idle": "2023-03-13T09:49:30.457548Z",
     "shell.execute_reply": "2023-03-13T09:49:30.456023Z"
    },
    "papermill": {
     "duration": 0.048769,
     "end_time": "2023-03-13T09:49:30.460038",
     "exception": false,
     "start_time": "2023-03-13T09:49:30.411269",
     "status": "completed"
    },
    "tags": []
   },
   "outputs": [
    {
     "name": "stdout",
     "output_type": "stream",
     "text": [
      "The p_value is  1.1947894351445014e-23 There is evidence of association between the variables\n"
     ]
    }
   ],
   "source": [
    "d_cont_table = pd.crosstab(fe_train_data['Destination'], fe_train_data['Transported'])\n",
    "d_p_value = stats.chi2_contingency(d_cont_table, correction=True)[1]\n",
    "\n",
    "if d_p_value < 0.05:\n",
    "    print('The p_value is ', d_p_value, 'There is evidence of association between the variables')\n",
    "else:\n",
    "    print('The p_value is ', d_p_value, 'There is no evidence of association between the variables') "
   ]
  },
  {
   "cell_type": "code",
   "execution_count": 47,
   "id": "402e49d1",
   "metadata": {
    "execution": {
     "iopub.execute_input": "2023-03-13T09:49:30.511004Z",
     "iopub.status.busy": "2023-03-13T09:49:30.510548Z",
     "iopub.status.idle": "2023-03-13T09:49:30.532497Z",
     "shell.execute_reply": "2023-03-13T09:49:30.531211Z"
    },
    "papermill": {
     "duration": 0.05033,
     "end_time": "2023-03-13T09:49:30.535164",
     "exception": false,
     "start_time": "2023-03-13T09:49:30.484834",
     "status": "completed"
    },
    "tags": []
   },
   "outputs": [
    {
     "name": "stdout",
     "output_type": "stream",
     "text": [
      "The p_value is  0.5743217143672246 There is no evidence of association between the variables\n"
     ]
    }
   ],
   "source": [
    "ag_cont_table = pd.crosstab(fe_train_data['Age'], fe_train_data['Transported'])\n",
    "ag_p_value = stats.chi2_contingency(ag_cont_table, correction=True)[1]\n",
    "\n",
    "if ag_p_value < 0.05:\n",
    "    print('The p_value is ', ag_p_value, 'There is evidence of association between the variables')\n",
    "else:\n",
    "    print('The p_value is ', ag_p_value, 'There is no evidence of association between the variables') "
   ]
  },
  {
   "cell_type": "code",
   "execution_count": 48,
   "id": "7b859f24",
   "metadata": {
    "execution": {
     "iopub.execute_input": "2023-03-13T09:49:30.586455Z",
     "iopub.status.busy": "2023-03-13T09:49:30.586080Z",
     "iopub.status.idle": "2023-03-13T09:49:30.606130Z",
     "shell.execute_reply": "2023-03-13T09:49:30.604455Z"
    },
    "papermill": {
     "duration": 0.048617,
     "end_time": "2023-03-13T09:49:30.608615",
     "exception": false,
     "start_time": "2023-03-13T09:49:30.559998",
     "status": "completed"
    },
    "tags": []
   },
   "outputs": [
    {
     "name": "stdout",
     "output_type": "stream",
     "text": [
      "The p_value is  0.0006681023600149099 There is evidence of association between the variables\n"
     ]
    }
   ],
   "source": [
    "vip_cont_table = pd.crosstab(fe_train_data['VIP'], fe_train_data['Transported'])\n",
    "vip_p_value = stats.chi2_contingency(vip_cont_table, correction=True)[1]\n",
    "\n",
    "if vip_p_value < 0.05:\n",
    "    print('The p_value is ', vip_p_value, 'There is evidence of association between the variables')\n",
    "else:\n",
    "    print('The p_value is ', vip_p_value, 'There is no evidence of association between the variables') "
   ]
  },
  {
   "cell_type": "code",
   "execution_count": 49,
   "id": "8f429535",
   "metadata": {
    "execution": {
     "iopub.execute_input": "2023-03-13T09:49:30.659566Z",
     "iopub.status.busy": "2023-03-13T09:49:30.659164Z",
     "iopub.status.idle": "2023-03-13T09:49:30.677533Z",
     "shell.execute_reply": "2023-03-13T09:49:30.676199Z"
    },
    "papermill": {
     "duration": 0.046943,
     "end_time": "2023-03-13T09:49:30.680093",
     "exception": false,
     "start_time": "2023-03-13T09:49:30.633150",
     "status": "completed"
    },
    "tags": []
   },
   "outputs": [
    {
     "name": "stdout",
     "output_type": "stream",
     "text": [
      "The p_value is  8.352488438720223e-80 There is evidence of association between the variables\n"
     ]
    }
   ],
   "source": [
    "cd_cont_table = pd.crosstab(fe_train_data['cabin_deck'], fe_train_data['Transported'])\n",
    "cd_p_value = stats.chi2_contingency(cd_cont_table, correction=True)[1]\n",
    "\n",
    "if cd_p_value < 0.05:\n",
    "    print('The p_value is ', cd_p_value, 'There is evidence of association between the variables')\n",
    "else:\n",
    "    print('The p_value is ', cd_p_value, 'There is no evidence of association between the variables') "
   ]
  },
  {
   "cell_type": "code",
   "execution_count": 50,
   "id": "76d00900",
   "metadata": {
    "execution": {
     "iopub.execute_input": "2023-03-13T09:49:30.731136Z",
     "iopub.status.busy": "2023-03-13T09:49:30.730320Z",
     "iopub.status.idle": "2023-03-13T09:49:30.748674Z",
     "shell.execute_reply": "2023-03-13T09:49:30.747357Z"
    },
    "papermill": {
     "duration": 0.047146,
     "end_time": "2023-03-13T09:49:30.751515",
     "exception": false,
     "start_time": "2023-03-13T09:49:30.704369",
     "status": "completed"
    },
    "tags": []
   },
   "outputs": [
    {
     "name": "stdout",
     "output_type": "stream",
     "text": [
      "The p_value is  1.3690336728997533e-20 There is evidence of association between the variables\n"
     ]
    }
   ],
   "source": [
    "cs_cont_table = pd.crosstab(fe_train_data['cabin_side'], fe_train_data['Transported'])\n",
    "cs_p_value = stats.chi2_contingency(cs_cont_table, correction=True)[1]\n",
    "\n",
    "if cs_p_value < 0.05:\n",
    "    print('The p_value is ', cs_p_value, 'There is evidence of association between the variables')\n",
    "else:\n",
    "    print('The p_value is ', cs_p_value, 'There is no evidence of association between the variables') "
   ]
  },
  {
   "cell_type": "code",
   "execution_count": 51,
   "id": "72b598d6",
   "metadata": {
    "execution": {
     "iopub.execute_input": "2023-03-13T09:49:30.804211Z",
     "iopub.status.busy": "2023-03-13T09:49:30.803768Z",
     "iopub.status.idle": "2023-03-13T09:49:31.062805Z",
     "shell.execute_reply": "2023-03-13T09:49:31.061581Z"
    },
    "papermill": {
     "duration": 0.289012,
     "end_time": "2023-03-13T09:49:31.065512",
     "exception": false,
     "start_time": "2023-03-13T09:49:30.776500",
     "status": "completed"
    },
    "tags": []
   },
   "outputs": [
    {
     "data": {
      "text/plain": [
       "Text(0.5, 1.0, 'Relationship Between Total Amount Spent on Amenities and Transported')"
      ]
     },
     "execution_count": 51,
     "metadata": {},
     "output_type": "execute_result"
    },
    {
     "data": {
      "image/png": "[encoded data removed]",
      "text/plain": [
       "<Figure size 640x480 with 1 Axes>"
      ]
     },
     "metadata": {},
     "output_type": "display_data"
    }
   ],
   "source": [
    "sns.boxplot(x='Transported', y='total_amenities', data = fe_train_data)\n",
    "plt.title('Relationship Between Total Amount Spent on Amenities and Transported')"
   ]
  },
  {
   "cell_type": "code",
   "execution_count": 52,
   "id": "ff916d2b",
   "metadata": {
    "execution": {
     "iopub.execute_input": "2023-03-13T09:49:31.119713Z",
     "iopub.status.busy": "2023-03-13T09:49:31.119223Z",
     "iopub.status.idle": "2023-03-13T09:49:31.127403Z",
     "shell.execute_reply": "2023-03-13T09:49:31.126555Z"
    },
    "papermill": {
     "duration": 0.037973,
     "end_time": "2023-03-13T09:49:31.129634",
     "exception": false,
     "start_time": "2023-03-13T09:49:31.091661",
     "status": "completed"
    },
    "tags": []
   },
   "outputs": [],
   "source": [
    "fe_train_data.drop('Age', axis=1, inplace=True)\n",
    "fe_test_data.drop('Age', axis=1, inplace=True)"
   ]
  },
  {
   "cell_type": "code",
   "execution_count": 53,
   "id": "32bf7a6f",
   "metadata": {
    "execution": {
     "iopub.execute_input": "2023-03-13T09:49:31.182932Z",
     "iopub.status.busy": "2023-03-13T09:49:31.182242Z",
     "iopub.status.idle": "2023-03-13T09:49:31.188813Z",
     "shell.execute_reply": "2023-03-13T09:49:31.187498Z"
    },
    "papermill": {
     "duration": 0.036619,
     "end_time": "2023-03-13T09:49:31.191801",
     "exception": false,
     "start_time": "2023-03-13T09:49:31.155182",
     "status": "completed"
    },
    "tags": []
   },
   "outputs": [
    {
     "data": {
      "text/plain": [
       "Index(['HomePlanet', 'CryoSleep', 'Destination', 'VIP', 'Transported',\n",
       "       'cabin_deck', 'cabin_side', 'total_amenities'],\n",
       "      dtype='object')"
      ]
     },
     "execution_count": 53,
     "metadata": {},
     "output_type": "execute_result"
    }
   ],
   "source": [
    "fe_train_data.columns"
   ]
  },
  {
   "cell_type": "code",
   "execution_count": 54,
   "id": "d010a995",
   "metadata": {
    "execution": {
     "iopub.execute_input": "2023-03-13T09:49:31.245016Z",
     "iopub.status.busy": "2023-03-13T09:49:31.244609Z",
     "iopub.status.idle": "2023-03-13T09:49:31.252624Z",
     "shell.execute_reply": "2023-03-13T09:49:31.251257Z"
    },
    "papermill": {
     "duration": 0.037748,
     "end_time": "2023-03-13T09:49:31.255244",
     "exception": false,
     "start_time": "2023-03-13T09:49:31.217496",
     "status": "completed"
    },
    "tags": []
   },
   "outputs": [],
   "source": [
    "def one_hot_fun(df):\n",
    "    hp_dum = pd.get_dummies(df['HomePlanet'], prefix='home_planet')\n",
    "    cr_dum = pd.get_dummies(df['CryoSleep'], prefix='cryo_sleep')   \n",
    "    ds_dum = pd.get_dummies(df['Destination'], prefix='destination')    \n",
    "    vip_dum = pd.get_dummies(df['VIP'], prefix='vip')   \n",
    "    cd_dum = pd.get_dummies(df['cabin_deck'], prefix='cabin_deck') \n",
    "    cs_dum = pd.get_dummies(df['cabin_side'], prefix='cabin_side')\n",
    "\n",
    "    df = pd.concat([df, hp_dum, cr_dum, ds_dum, vip_dum, cd_dum, cs_dum], axis=1)\n",
    "    \n",
    "    df.drop(['HomePlanet', 'CryoSleep', 'Destination', 'VIP', 'cabin_deck', 'cabin_side'],axis=1, inplace=True)\n",
    "    \n",
    "    return df"
   ]
  },
  {
   "cell_type": "code",
   "execution_count": 55,
   "id": "5a26bb9e",
   "metadata": {
    "execution": {
     "iopub.execute_input": "2023-03-13T09:49:31.310147Z",
     "iopub.status.busy": "2023-03-13T09:49:31.309224Z",
     "iopub.status.idle": "2023-03-13T09:49:31.334734Z",
     "shell.execute_reply": "2023-03-13T09:49:31.333501Z"
    },
    "papermill": {
     "duration": 0.056716,
     "end_time": "2023-03-13T09:49:31.337822",
     "exception": false,
     "start_time": "2023-03-13T09:49:31.281106",
     "status": "completed"
    },
    "tags": []
   },
   "outputs": [],
   "source": [
    "fe_train_data = one_hot_fun(fe_train_data)\n",
    "fe_test_data = one_hot_fun(fe_test_data)"
   ]
  },
  {
   "cell_type": "code",
   "execution_count": 56,
   "id": "d21bf13b",
   "metadata": {
    "execution": {
     "iopub.execute_input": "2023-03-13T09:49:31.391688Z",
     "iopub.status.busy": "2023-03-13T09:49:31.390918Z",
     "iopub.status.idle": "2023-03-13T09:49:31.411133Z",
     "shell.execute_reply": "2023-03-13T09:49:31.409712Z"
    },
    "papermill": {
     "duration": 0.050231,
     "end_time": "2023-03-13T09:49:31.414080",
     "exception": false,
     "start_time": "2023-03-13T09:49:31.363849",
     "status": "completed"
    },
    "tags": []
   },
   "outputs": [
    {
     "data": {
      "text/html": [
       "<div>\n",
       "<style scoped>\n",
       "    .dataframe tbody tr th:only-of-type {\n",
       "        vertical-align: middle;\n",
       "    }\n",
       "\n",
       "    .dataframe tbody tr th {\n",
       "        vertical-align: top;\n",
       "    }\n",
       "\n",
       "    .dataframe thead th {\n",
       "        text-align: right;\n",
       "    }\n",
       "</style>\n",
       "<table border=\"1\" class=\"dataframe\">\n",
       "  <thead>\n",
       "    <tr style=\"text-align: right;\">\n",
       "      <th></th>\n",
       "      <th>Transported</th>\n",
       "      <th>total_amenities</th>\n",
       "      <th>home_planet_Earth</th>\n",
       "      <th>home_planet_Europa</th>\n",
       "      <th>home_planet_Mars</th>\n",
       "      <th>cryo_sleep_False</th>\n",
       "      <th>cryo_sleep_True</th>\n",
       "      <th>destination_55 Cancri e</th>\n",
       "      <th>destination_PSO J318.5-22</th>\n",
       "      <th>destination_TRAPPIST-1e</th>\n",
       "      <th>...</th>\n",
       "      <th>cabin_deck_B</th>\n",
       "      <th>cabin_deck_C</th>\n",
       "      <th>cabin_deck_D</th>\n",
       "      <th>cabin_deck_E</th>\n",
       "      <th>cabin_deck_F</th>\n",
       "      <th>cabin_deck_G</th>\n",
       "      <th>cabin_deck_T</th>\n",
       "      <th>cabin_side_0</th>\n",
       "      <th>cabin_side_P</th>\n",
       "      <th>cabin_side_S</th>\n",
       "    </tr>\n",
       "  </thead>\n",
       "  <tbody>\n",
       "    <tr>\n",
       "      <th>0</th>\n",
       "      <td>False</td>\n",
       "      <td>0.0</td>\n",
       "      <td>0</td>\n",
       "      <td>1</td>\n",
       "      <td>0</td>\n",
       "      <td>1</td>\n",
       "      <td>0</td>\n",
       "      <td>0</td>\n",
       "      <td>0</td>\n",
       "      <td>1</td>\n",
       "      <td>...</td>\n",
       "      <td>1</td>\n",
       "      <td>0</td>\n",
       "      <td>0</td>\n",
       "      <td>0</td>\n",
       "      <td>0</td>\n",
       "      <td>0</td>\n",
       "      <td>0</td>\n",
       "      <td>0</td>\n",
       "      <td>1</td>\n",
       "      <td>0</td>\n",
       "    </tr>\n",
       "    <tr>\n",
       "      <th>1</th>\n",
       "      <td>True</td>\n",
       "      <td>736.0</td>\n",
       "      <td>1</td>\n",
       "      <td>0</td>\n",
       "      <td>0</td>\n",
       "      <td>1</td>\n",
       "      <td>0</td>\n",
       "      <td>0</td>\n",
       "      <td>0</td>\n",
       "      <td>1</td>\n",
       "      <td>...</td>\n",
       "      <td>0</td>\n",
       "      <td>0</td>\n",
       "      <td>0</td>\n",
       "      <td>0</td>\n",
       "      <td>1</td>\n",
       "      <td>0</td>\n",
       "      <td>0</td>\n",
       "      <td>0</td>\n",
       "      <td>0</td>\n",
       "      <td>1</td>\n",
       "    </tr>\n",
       "    <tr>\n",
       "      <th>2</th>\n",
       "      <td>False</td>\n",
       "      <td>10383.0</td>\n",
       "      <td>0</td>\n",
       "      <td>1</td>\n",
       "      <td>0</td>\n",
       "      <td>1</td>\n",
       "      <td>0</td>\n",
       "      <td>0</td>\n",
       "      <td>0</td>\n",
       "      <td>1</td>\n",
       "      <td>...</td>\n",
       "      <td>0</td>\n",
       "      <td>0</td>\n",
       "      <td>0</td>\n",
       "      <td>0</td>\n",
       "      <td>0</td>\n",
       "      <td>0</td>\n",
       "      <td>0</td>\n",
       "      <td>0</td>\n",
       "      <td>0</td>\n",
       "      <td>1</td>\n",
       "    </tr>\n",
       "    <tr>\n",
       "      <th>3</th>\n",
       "      <td>False</td>\n",
       "      <td>5176.0</td>\n",
       "      <td>0</td>\n",
       "      <td>1</td>\n",
       "      <td>0</td>\n",
       "      <td>1</td>\n",
       "      <td>0</td>\n",
       "      <td>0</td>\n",
       "      <td>0</td>\n",
       "      <td>1</td>\n",
       "      <td>...</td>\n",
       "      <td>0</td>\n",
       "      <td>0</td>\n",
       "      <td>0</td>\n",
       "      <td>0</td>\n",
       "      <td>0</td>\n",
       "      <td>0</td>\n",
       "      <td>0</td>\n",
       "      <td>0</td>\n",
       "      <td>0</td>\n",
       "      <td>1</td>\n",
       "    </tr>\n",
       "    <tr>\n",
       "      <th>4</th>\n",
       "      <td>True</td>\n",
       "      <td>1091.0</td>\n",
       "      <td>1</td>\n",
       "      <td>0</td>\n",
       "      <td>0</td>\n",
       "      <td>1</td>\n",
       "      <td>0</td>\n",
       "      <td>0</td>\n",
       "      <td>0</td>\n",
       "      <td>1</td>\n",
       "      <td>...</td>\n",
       "      <td>0</td>\n",
       "      <td>0</td>\n",
       "      <td>0</td>\n",
       "      <td>0</td>\n",
       "      <td>1</td>\n",
       "      <td>0</td>\n",
       "      <td>0</td>\n",
       "      <td>0</td>\n",
       "      <td>0</td>\n",
       "      <td>1</td>\n",
       "    </tr>\n",
       "  </tbody>\n",
       "</table>\n",
       "<p>5 rows × 24 columns</p>\n",
       "</div>"
      ],
      "text/plain": [
       "   Transported  total_amenities  home_planet_Earth  home_planet_Europa  \\\n",
       "0        False              0.0                  0                   1   \n",
       "1         True            736.0                  1                   0   \n",
       "2        False          10383.0                  0                   1   \n",
       "3        False           5176.0                  0                   1   \n",
       "4         True           1091.0                  1                   0   \n",
       "\n",
       "   home_planet_Mars  cryo_sleep_False  cryo_sleep_True  \\\n",
       "0                 0                 1                0   \n",
       "1                 0                 1                0   \n",
       "2                 0                 1                0   \n",
       "3                 0                 1                0   \n",
       "4                 0                 1                0   \n",
       "\n",
       "   destination_55 Cancri e  destination_PSO J318.5-22  \\\n",
       "0                        0                          0   \n",
       "1                        0                          0   \n",
       "2                        0                          0   \n",
       "3                        0                          0   \n",
       "4                        0                          0   \n",
       "\n",
       "   destination_TRAPPIST-1e  ...  cabin_deck_B  cabin_deck_C  cabin_deck_D  \\\n",
       "0                        1  ...             1             0             0   \n",
       "1                        1  ...             0             0             0   \n",
       "2                        1  ...             0             0             0   \n",
       "3                        1  ...             0             0             0   \n",
       "4                        1  ...             0             0             0   \n",
       "\n",
       "   cabin_deck_E  cabin_deck_F  cabin_deck_G  cabin_deck_T  cabin_side_0  \\\n",
       "0             0             0             0             0             0   \n",
       "1             0             1             0             0             0   \n",
       "2             0             0             0             0             0   \n",
       "3             0             0             0             0             0   \n",
       "4             0             1             0             0             0   \n",
       "\n",
       "   cabin_side_P  cabin_side_S  \n",
       "0             1             0  \n",
       "1             0             1  \n",
       "2             0             1  \n",
       "3             0             1  \n",
       "4             0             1  \n",
       "\n",
       "[5 rows x 24 columns]"
      ]
     },
     "execution_count": 56,
     "metadata": {},
     "output_type": "execute_result"
    }
   ],
   "source": [
    "fe_train_data.head()"
   ]
  },
  {
   "cell_type": "code",
   "execution_count": 57,
   "id": "c6afdb77",
   "metadata": {
    "execution": {
     "iopub.execute_input": "2023-03-13T09:49:31.467664Z",
     "iopub.status.busy": "2023-03-13T09:49:31.467219Z",
     "iopub.status.idle": "2023-03-13T09:49:31.487133Z",
     "shell.execute_reply": "2023-03-13T09:49:31.486054Z"
    },
    "papermill": {
     "duration": 0.049391,
     "end_time": "2023-03-13T09:49:31.489637",
     "exception": false,
     "start_time": "2023-03-13T09:49:31.440246",
     "status": "completed"
    },
    "tags": []
   },
   "outputs": [
    {
     "data": {
      "text/html": [
       "<div>\n",
       "<style scoped>\n",
       "    .dataframe tbody tr th:only-of-type {\n",
       "        vertical-align: middle;\n",
       "    }\n",
       "\n",
       "    .dataframe tbody tr th {\n",
       "        vertical-align: top;\n",
       "    }\n",
       "\n",
       "    .dataframe thead th {\n",
       "        text-align: right;\n",
       "    }\n",
       "</style>\n",
       "<table border=\"1\" class=\"dataframe\">\n",
       "  <thead>\n",
       "    <tr style=\"text-align: right;\">\n",
       "      <th></th>\n",
       "      <th>total_amenities</th>\n",
       "      <th>home_planet_Earth</th>\n",
       "      <th>home_planet_Europa</th>\n",
       "      <th>home_planet_Mars</th>\n",
       "      <th>cryo_sleep_False</th>\n",
       "      <th>cryo_sleep_True</th>\n",
       "      <th>destination_55 Cancri e</th>\n",
       "      <th>destination_PSO J318.5-22</th>\n",
       "      <th>destination_TRAPPIST-1e</th>\n",
       "      <th>vip_False</th>\n",
       "      <th>...</th>\n",
       "      <th>cabin_deck_B</th>\n",
       "      <th>cabin_deck_C</th>\n",
       "      <th>cabin_deck_D</th>\n",
       "      <th>cabin_deck_E</th>\n",
       "      <th>cabin_deck_F</th>\n",
       "      <th>cabin_deck_G</th>\n",
       "      <th>cabin_deck_T</th>\n",
       "      <th>cabin_side_0</th>\n",
       "      <th>cabin_side_P</th>\n",
       "      <th>cabin_side_S</th>\n",
       "    </tr>\n",
       "  </thead>\n",
       "  <tbody>\n",
       "    <tr>\n",
       "      <th>0</th>\n",
       "      <td>0.0</td>\n",
       "      <td>1</td>\n",
       "      <td>0</td>\n",
       "      <td>0</td>\n",
       "      <td>0</td>\n",
       "      <td>1</td>\n",
       "      <td>0</td>\n",
       "      <td>0</td>\n",
       "      <td>1</td>\n",
       "      <td>1</td>\n",
       "      <td>...</td>\n",
       "      <td>0</td>\n",
       "      <td>0</td>\n",
       "      <td>0</td>\n",
       "      <td>0</td>\n",
       "      <td>0</td>\n",
       "      <td>1</td>\n",
       "      <td>0</td>\n",
       "      <td>0</td>\n",
       "      <td>0</td>\n",
       "      <td>1</td>\n",
       "    </tr>\n",
       "    <tr>\n",
       "      <th>1</th>\n",
       "      <td>2832.0</td>\n",
       "      <td>1</td>\n",
       "      <td>0</td>\n",
       "      <td>0</td>\n",
       "      <td>1</td>\n",
       "      <td>0</td>\n",
       "      <td>0</td>\n",
       "      <td>0</td>\n",
       "      <td>1</td>\n",
       "      <td>1</td>\n",
       "      <td>...</td>\n",
       "      <td>0</td>\n",
       "      <td>0</td>\n",
       "      <td>0</td>\n",
       "      <td>0</td>\n",
       "      <td>1</td>\n",
       "      <td>0</td>\n",
       "      <td>0</td>\n",
       "      <td>0</td>\n",
       "      <td>0</td>\n",
       "      <td>1</td>\n",
       "    </tr>\n",
       "    <tr>\n",
       "      <th>2</th>\n",
       "      <td>0.0</td>\n",
       "      <td>0</td>\n",
       "      <td>1</td>\n",
       "      <td>0</td>\n",
       "      <td>0</td>\n",
       "      <td>1</td>\n",
       "      <td>1</td>\n",
       "      <td>0</td>\n",
       "      <td>0</td>\n",
       "      <td>1</td>\n",
       "      <td>...</td>\n",
       "      <td>0</td>\n",
       "      <td>1</td>\n",
       "      <td>0</td>\n",
       "      <td>0</td>\n",
       "      <td>0</td>\n",
       "      <td>0</td>\n",
       "      <td>0</td>\n",
       "      <td>0</td>\n",
       "      <td>0</td>\n",
       "      <td>1</td>\n",
       "    </tr>\n",
       "    <tr>\n",
       "      <th>3</th>\n",
       "      <td>7418.0</td>\n",
       "      <td>0</td>\n",
       "      <td>1</td>\n",
       "      <td>0</td>\n",
       "      <td>1</td>\n",
       "      <td>0</td>\n",
       "      <td>0</td>\n",
       "      <td>0</td>\n",
       "      <td>1</td>\n",
       "      <td>1</td>\n",
       "      <td>...</td>\n",
       "      <td>0</td>\n",
       "      <td>1</td>\n",
       "      <td>0</td>\n",
       "      <td>0</td>\n",
       "      <td>0</td>\n",
       "      <td>0</td>\n",
       "      <td>0</td>\n",
       "      <td>0</td>\n",
       "      <td>0</td>\n",
       "      <td>1</td>\n",
       "    </tr>\n",
       "    <tr>\n",
       "      <th>4</th>\n",
       "      <td>645.0</td>\n",
       "      <td>1</td>\n",
       "      <td>0</td>\n",
       "      <td>0</td>\n",
       "      <td>1</td>\n",
       "      <td>0</td>\n",
       "      <td>0</td>\n",
       "      <td>0</td>\n",
       "      <td>1</td>\n",
       "      <td>1</td>\n",
       "      <td>...</td>\n",
       "      <td>0</td>\n",
       "      <td>0</td>\n",
       "      <td>0</td>\n",
       "      <td>0</td>\n",
       "      <td>1</td>\n",
       "      <td>0</td>\n",
       "      <td>0</td>\n",
       "      <td>0</td>\n",
       "      <td>0</td>\n",
       "      <td>1</td>\n",
       "    </tr>\n",
       "  </tbody>\n",
       "</table>\n",
       "<p>5 rows × 23 columns</p>\n",
       "</div>"
      ],
      "text/plain": [
       "   total_amenities  home_planet_Earth  home_planet_Europa  home_planet_Mars  \\\n",
       "0              0.0                  1                   0                 0   \n",
       "1           2832.0                  1                   0                 0   \n",
       "2              0.0                  0                   1                 0   \n",
       "3           7418.0                  0                   1                 0   \n",
       "4            645.0                  1                   0                 0   \n",
       "\n",
       "   cryo_sleep_False  cryo_sleep_True  destination_55 Cancri e  \\\n",
       "0                 0                1                        0   \n",
       "1                 1                0                        0   \n",
       "2                 0                1                        1   \n",
       "3                 1                0                        0   \n",
       "4                 1                0                        0   \n",
       "\n",
       "   destination_PSO J318.5-22  destination_TRAPPIST-1e  vip_False  ...  \\\n",
       "0                          0                        1          1  ...   \n",
       "1                          0                        1          1  ...   \n",
       "2                          0                        0          1  ...   \n",
       "3                          0                        1          1  ...   \n",
       "4                          0                        1          1  ...   \n",
       "\n",
       "   cabin_deck_B  cabin_deck_C  cabin_deck_D  cabin_deck_E  cabin_deck_F  \\\n",
       "0             0             0             0             0             0   \n",
       "1             0             0             0             0             1   \n",
       "2             0             1             0             0             0   \n",
       "3             0             1             0             0             0   \n",
       "4             0             0             0             0             1   \n",
       "\n",
       "   cabin_deck_G  cabin_deck_T  cabin_side_0  cabin_side_P  cabin_side_S  \n",
       "0             1             0             0             0             1  \n",
       "1             0             0             0             0             1  \n",
       "2             0             0             0             0             1  \n",
       "3             0             0             0             0             1  \n",
       "4             0             0             0             0             1  \n",
       "\n",
       "[5 rows x 23 columns]"
      ]
     },
     "execution_count": 57,
     "metadata": {},
     "output_type": "execute_result"
    }
   ],
   "source": [
    "fe_test_data.head()"
   ]
  },
  {
   "cell_type": "code",
   "execution_count": 58,
   "id": "d45201f5",
   "metadata": {
    "execution": {
     "iopub.execute_input": "2023-03-13T09:49:31.547741Z",
     "iopub.status.busy": "2023-03-13T09:49:31.546294Z",
     "iopub.status.idle": "2023-03-13T09:49:31.713025Z",
     "shell.execute_reply": "2023-03-13T09:49:31.711979Z"
    },
    "papermill": {
     "duration": 0.199093,
     "end_time": "2023-03-13T09:49:31.715709",
     "exception": false,
     "start_time": "2023-03-13T09:49:31.516616",
     "status": "completed"
    },
    "tags": []
   },
   "outputs": [],
   "source": [
    "from sklearn.preprocessing import MinMaxScaler"
   ]
  },
  {
   "cell_type": "code",
   "execution_count": 59,
   "id": "55caecd0",
   "metadata": {
    "execution": {
     "iopub.execute_input": "2023-03-13T09:49:31.769708Z",
     "iopub.status.busy": "2023-03-13T09:49:31.769269Z",
     "iopub.status.idle": "2023-03-13T09:49:31.784325Z",
     "shell.execute_reply": "2023-03-13T09:49:31.783240Z"
    },
    "papermill": {
     "duration": 0.044769,
     "end_time": "2023-03-13T09:49:31.786765",
     "exception": false,
     "start_time": "2023-03-13T09:49:31.741996",
     "status": "completed"
    },
    "tags": []
   },
   "outputs": [],
   "source": [
    "scaler = MinMaxScaler()\n",
    "fe_train_data['total_amenities'] = scaler.fit_transform(fe_train_data[['total_amenities']])\n",
    "fe_test_data['total_amenities'] = scaler.fit_transform(fe_test_data[['total_amenities']])"
   ]
  },
  {
   "cell_type": "code",
   "execution_count": 60,
   "id": "bcdaa2fa",
   "metadata": {
    "execution": {
     "iopub.execute_input": "2023-03-13T09:49:31.841015Z",
     "iopub.status.busy": "2023-03-13T09:49:31.840592Z",
     "iopub.status.idle": "2023-03-13T09:49:31.861211Z",
     "shell.execute_reply": "2023-03-13T09:49:31.859968Z"
    },
    "papermill": {
     "duration": 0.050843,
     "end_time": "2023-03-13T09:49:31.863666",
     "exception": false,
     "start_time": "2023-03-13T09:49:31.812823",
     "status": "completed"
    },
    "tags": []
   },
   "outputs": [
    {
     "data": {
      "text/html": [
       "<div>\n",
       "<style scoped>\n",
       "    .dataframe tbody tr th:only-of-type {\n",
       "        vertical-align: middle;\n",
       "    }\n",
       "\n",
       "    .dataframe tbody tr th {\n",
       "        vertical-align: top;\n",
       "    }\n",
       "\n",
       "    .dataframe thead th {\n",
       "        text-align: right;\n",
       "    }\n",
       "</style>\n",
       "<table border=\"1\" class=\"dataframe\">\n",
       "  <thead>\n",
       "    <tr style=\"text-align: right;\">\n",
       "      <th></th>\n",
       "      <th>Transported</th>\n",
       "      <th>total_amenities</th>\n",
       "      <th>home_planet_Earth</th>\n",
       "      <th>home_planet_Europa</th>\n",
       "      <th>home_planet_Mars</th>\n",
       "      <th>cryo_sleep_False</th>\n",
       "      <th>cryo_sleep_True</th>\n",
       "      <th>destination_55 Cancri e</th>\n",
       "      <th>destination_PSO J318.5-22</th>\n",
       "      <th>destination_TRAPPIST-1e</th>\n",
       "      <th>...</th>\n",
       "      <th>cabin_deck_B</th>\n",
       "      <th>cabin_deck_C</th>\n",
       "      <th>cabin_deck_D</th>\n",
       "      <th>cabin_deck_E</th>\n",
       "      <th>cabin_deck_F</th>\n",
       "      <th>cabin_deck_G</th>\n",
       "      <th>cabin_deck_T</th>\n",
       "      <th>cabin_side_0</th>\n",
       "      <th>cabin_side_P</th>\n",
       "      <th>cabin_side_S</th>\n",
       "    </tr>\n",
       "  </thead>\n",
       "  <tbody>\n",
       "    <tr>\n",
       "      <th>0</th>\n",
       "      <td>False</td>\n",
       "      <td>0.000000</td>\n",
       "      <td>0</td>\n",
       "      <td>1</td>\n",
       "      <td>0</td>\n",
       "      <td>1</td>\n",
       "      <td>0</td>\n",
       "      <td>0</td>\n",
       "      <td>0</td>\n",
       "      <td>1</td>\n",
       "      <td>...</td>\n",
       "      <td>1</td>\n",
       "      <td>0</td>\n",
       "      <td>0</td>\n",
       "      <td>0</td>\n",
       "      <td>0</td>\n",
       "      <td>0</td>\n",
       "      <td>0</td>\n",
       "      <td>0</td>\n",
       "      <td>1</td>\n",
       "      <td>0</td>\n",
       "    </tr>\n",
       "    <tr>\n",
       "      <th>1</th>\n",
       "      <td>True</td>\n",
       "      <td>0.020452</td>\n",
       "      <td>1</td>\n",
       "      <td>0</td>\n",
       "      <td>0</td>\n",
       "      <td>1</td>\n",
       "      <td>0</td>\n",
       "      <td>0</td>\n",
       "      <td>0</td>\n",
       "      <td>1</td>\n",
       "      <td>...</td>\n",
       "      <td>0</td>\n",
       "      <td>0</td>\n",
       "      <td>0</td>\n",
       "      <td>0</td>\n",
       "      <td>1</td>\n",
       "      <td>0</td>\n",
       "      <td>0</td>\n",
       "      <td>0</td>\n",
       "      <td>0</td>\n",
       "      <td>1</td>\n",
       "    </tr>\n",
       "    <tr>\n",
       "      <th>2</th>\n",
       "      <td>False</td>\n",
       "      <td>0.288521</td>\n",
       "      <td>0</td>\n",
       "      <td>1</td>\n",
       "      <td>0</td>\n",
       "      <td>1</td>\n",
       "      <td>0</td>\n",
       "      <td>0</td>\n",
       "      <td>0</td>\n",
       "      <td>1</td>\n",
       "      <td>...</td>\n",
       "      <td>0</td>\n",
       "      <td>0</td>\n",
       "      <td>0</td>\n",
       "      <td>0</td>\n",
       "      <td>0</td>\n",
       "      <td>0</td>\n",
       "      <td>0</td>\n",
       "      <td>0</td>\n",
       "      <td>0</td>\n",
       "      <td>1</td>\n",
       "    </tr>\n",
       "    <tr>\n",
       "      <th>3</th>\n",
       "      <td>False</td>\n",
       "      <td>0.143830</td>\n",
       "      <td>0</td>\n",
       "      <td>1</td>\n",
       "      <td>0</td>\n",
       "      <td>1</td>\n",
       "      <td>0</td>\n",
       "      <td>0</td>\n",
       "      <td>0</td>\n",
       "      <td>1</td>\n",
       "      <td>...</td>\n",
       "      <td>0</td>\n",
       "      <td>0</td>\n",
       "      <td>0</td>\n",
       "      <td>0</td>\n",
       "      <td>0</td>\n",
       "      <td>0</td>\n",
       "      <td>0</td>\n",
       "      <td>0</td>\n",
       "      <td>0</td>\n",
       "      <td>1</td>\n",
       "    </tr>\n",
       "    <tr>\n",
       "      <th>4</th>\n",
       "      <td>True</td>\n",
       "      <td>0.030317</td>\n",
       "      <td>1</td>\n",
       "      <td>0</td>\n",
       "      <td>0</td>\n",
       "      <td>1</td>\n",
       "      <td>0</td>\n",
       "      <td>0</td>\n",
       "      <td>0</td>\n",
       "      <td>1</td>\n",
       "      <td>...</td>\n",
       "      <td>0</td>\n",
       "      <td>0</td>\n",
       "      <td>0</td>\n",
       "      <td>0</td>\n",
       "      <td>1</td>\n",
       "      <td>0</td>\n",
       "      <td>0</td>\n",
       "      <td>0</td>\n",
       "      <td>0</td>\n",
       "      <td>1</td>\n",
       "    </tr>\n",
       "  </tbody>\n",
       "</table>\n",
       "<p>5 rows × 24 columns</p>\n",
       "</div>"
      ],
      "text/plain": [
       "   Transported  total_amenities  home_planet_Earth  home_planet_Europa  \\\n",
       "0        False         0.000000                  0                   1   \n",
       "1         True         0.020452                  1                   0   \n",
       "2        False         0.288521                  0                   1   \n",
       "3        False         0.143830                  0                   1   \n",
       "4         True         0.030317                  1                   0   \n",
       "\n",
       "   home_planet_Mars  cryo_sleep_False  cryo_sleep_True  \\\n",
       "0                 0                 1                0   \n",
       "1                 0                 1                0   \n",
       "2                 0                 1                0   \n",
       "3                 0                 1                0   \n",
       "4                 0                 1                0   \n",
       "\n",
       "   destination_55 Cancri e  destination_PSO J318.5-22  \\\n",
       "0                        0                          0   \n",
       "1                        0                          0   \n",
       "2                        0                          0   \n",
       "3                        0                          0   \n",
       "4                        0                          0   \n",
       "\n",
       "   destination_TRAPPIST-1e  ...  cabin_deck_B  cabin_deck_C  cabin_deck_D  \\\n",
       "0                        1  ...             1             0             0   \n",
       "1                        1  ...             0             0             0   \n",
       "2                        1  ...             0             0             0   \n",
       "3                        1  ...             0             0             0   \n",
       "4                        1  ...             0             0             0   \n",
       "\n",
       "   cabin_deck_E  cabin_deck_F  cabin_deck_G  cabin_deck_T  cabin_side_0  \\\n",
       "0             0             0             0             0             0   \n",
       "1             0             1             0             0             0   \n",
       "2             0             0             0             0             0   \n",
       "3             0             0             0             0             0   \n",
       "4             0             1             0             0             0   \n",
       "\n",
       "   cabin_side_P  cabin_side_S  \n",
       "0             1             0  \n",
       "1             0             1  \n",
       "2             0             1  \n",
       "3             0             1  \n",
       "4             0             1  \n",
       "\n",
       "[5 rows x 24 columns]"
      ]
     },
     "execution_count": 60,
     "metadata": {},
     "output_type": "execute_result"
    }
   ],
   "source": [
    "fe_train_data.head()"
   ]
  },
  {
   "cell_type": "code",
   "execution_count": 61,
   "id": "8a605b84",
   "metadata": {
    "execution": {
     "iopub.execute_input": "2023-03-13T09:49:31.920057Z",
     "iopub.status.busy": "2023-03-13T09:49:31.919627Z",
     "iopub.status.idle": "2023-03-13T09:49:31.939569Z",
     "shell.execute_reply": "2023-03-13T09:49:31.938179Z"
    },
    "papermill": {
     "duration": 0.051247,
     "end_time": "2023-03-13T09:49:31.942061",
     "exception": false,
     "start_time": "2023-03-13T09:49:31.890814",
     "status": "completed"
    },
    "tags": []
   },
   "outputs": [
    {
     "data": {
      "text/html": [
       "<div>\n",
       "<style scoped>\n",
       "    .dataframe tbody tr th:only-of-type {\n",
       "        vertical-align: middle;\n",
       "    }\n",
       "\n",
       "    .dataframe tbody tr th {\n",
       "        vertical-align: top;\n",
       "    }\n",
       "\n",
       "    .dataframe thead th {\n",
       "        text-align: right;\n",
       "    }\n",
       "</style>\n",
       "<table border=\"1\" class=\"dataframe\">\n",
       "  <thead>\n",
       "    <tr style=\"text-align: right;\">\n",
       "      <th></th>\n",
       "      <th>total_amenities</th>\n",
       "      <th>home_planet_Earth</th>\n",
       "      <th>home_planet_Europa</th>\n",
       "      <th>home_planet_Mars</th>\n",
       "      <th>cryo_sleep_False</th>\n",
       "      <th>cryo_sleep_True</th>\n",
       "      <th>destination_55 Cancri e</th>\n",
       "      <th>destination_PSO J318.5-22</th>\n",
       "      <th>destination_TRAPPIST-1e</th>\n",
       "      <th>vip_False</th>\n",
       "      <th>...</th>\n",
       "      <th>cabin_deck_B</th>\n",
       "      <th>cabin_deck_C</th>\n",
       "      <th>cabin_deck_D</th>\n",
       "      <th>cabin_deck_E</th>\n",
       "      <th>cabin_deck_F</th>\n",
       "      <th>cabin_deck_G</th>\n",
       "      <th>cabin_deck_T</th>\n",
       "      <th>cabin_side_0</th>\n",
       "      <th>cabin_side_P</th>\n",
       "      <th>cabin_side_S</th>\n",
       "    </tr>\n",
       "  </thead>\n",
       "  <tbody>\n",
       "    <tr>\n",
       "      <th>0</th>\n",
       "      <td>0.000000</td>\n",
       "      <td>1</td>\n",
       "      <td>0</td>\n",
       "      <td>0</td>\n",
       "      <td>0</td>\n",
       "      <td>1</td>\n",
       "      <td>0</td>\n",
       "      <td>0</td>\n",
       "      <td>1</td>\n",
       "      <td>1</td>\n",
       "      <td>...</td>\n",
       "      <td>0</td>\n",
       "      <td>0</td>\n",
       "      <td>0</td>\n",
       "      <td>0</td>\n",
       "      <td>0</td>\n",
       "      <td>1</td>\n",
       "      <td>0</td>\n",
       "      <td>0</td>\n",
       "      <td>0</td>\n",
       "      <td>1</td>\n",
       "    </tr>\n",
       "    <tr>\n",
       "      <th>1</th>\n",
       "      <td>0.084120</td>\n",
       "      <td>1</td>\n",
       "      <td>0</td>\n",
       "      <td>0</td>\n",
       "      <td>1</td>\n",
       "      <td>0</td>\n",
       "      <td>0</td>\n",
       "      <td>0</td>\n",
       "      <td>1</td>\n",
       "      <td>1</td>\n",
       "      <td>...</td>\n",
       "      <td>0</td>\n",
       "      <td>0</td>\n",
       "      <td>0</td>\n",
       "      <td>0</td>\n",
       "      <td>1</td>\n",
       "      <td>0</td>\n",
       "      <td>0</td>\n",
       "      <td>0</td>\n",
       "      <td>0</td>\n",
       "      <td>1</td>\n",
       "    </tr>\n",
       "    <tr>\n",
       "      <th>2</th>\n",
       "      <td>0.000000</td>\n",
       "      <td>0</td>\n",
       "      <td>1</td>\n",
       "      <td>0</td>\n",
       "      <td>0</td>\n",
       "      <td>1</td>\n",
       "      <td>1</td>\n",
       "      <td>0</td>\n",
       "      <td>0</td>\n",
       "      <td>1</td>\n",
       "      <td>...</td>\n",
       "      <td>0</td>\n",
       "      <td>1</td>\n",
       "      <td>0</td>\n",
       "      <td>0</td>\n",
       "      <td>0</td>\n",
       "      <td>0</td>\n",
       "      <td>0</td>\n",
       "      <td>0</td>\n",
       "      <td>0</td>\n",
       "      <td>1</td>\n",
       "    </tr>\n",
       "    <tr>\n",
       "      <th>3</th>\n",
       "      <td>0.220341</td>\n",
       "      <td>0</td>\n",
       "      <td>1</td>\n",
       "      <td>0</td>\n",
       "      <td>1</td>\n",
       "      <td>0</td>\n",
       "      <td>0</td>\n",
       "      <td>0</td>\n",
       "      <td>1</td>\n",
       "      <td>1</td>\n",
       "      <td>...</td>\n",
       "      <td>0</td>\n",
       "      <td>1</td>\n",
       "      <td>0</td>\n",
       "      <td>0</td>\n",
       "      <td>0</td>\n",
       "      <td>0</td>\n",
       "      <td>0</td>\n",
       "      <td>0</td>\n",
       "      <td>0</td>\n",
       "      <td>1</td>\n",
       "    </tr>\n",
       "    <tr>\n",
       "      <th>4</th>\n",
       "      <td>0.019159</td>\n",
       "      <td>1</td>\n",
       "      <td>0</td>\n",
       "      <td>0</td>\n",
       "      <td>1</td>\n",
       "      <td>0</td>\n",
       "      <td>0</td>\n",
       "      <td>0</td>\n",
       "      <td>1</td>\n",
       "      <td>1</td>\n",
       "      <td>...</td>\n",
       "      <td>0</td>\n",
       "      <td>0</td>\n",
       "      <td>0</td>\n",
       "      <td>0</td>\n",
       "      <td>1</td>\n",
       "      <td>0</td>\n",
       "      <td>0</td>\n",
       "      <td>0</td>\n",
       "      <td>0</td>\n",
       "      <td>1</td>\n",
       "    </tr>\n",
       "  </tbody>\n",
       "</table>\n",
       "<p>5 rows × 23 columns</p>\n",
       "</div>"
      ],
      "text/plain": [
       "   total_amenities  home_planet_Earth  home_planet_Europa  home_planet_Mars  \\\n",
       "0         0.000000                  1                   0                 0   \n",
       "1         0.084120                  1                   0                 0   \n",
       "2         0.000000                  0                   1                 0   \n",
       "3         0.220341                  0                   1                 0   \n",
       "4         0.019159                  1                   0                 0   \n",
       "\n",
       "   cryo_sleep_False  cryo_sleep_True  destination_55 Cancri e  \\\n",
       "0                 0                1                        0   \n",
       "1                 1                0                        0   \n",
       "2                 0                1                        1   \n",
       "3                 1                0                        0   \n",
       "4                 1                0                        0   \n",
       "\n",
       "   destination_PSO J318.5-22  destination_TRAPPIST-1e  vip_False  ...  \\\n",
       "0                          0                        1          1  ...   \n",
       "1                          0                        1          1  ...   \n",
       "2                          0                        0          1  ...   \n",
       "3                          0                        1          1  ...   \n",
       "4                          0                        1          1  ...   \n",
       "\n",
       "   cabin_deck_B  cabin_deck_C  cabin_deck_D  cabin_deck_E  cabin_deck_F  \\\n",
       "0             0             0             0             0             0   \n",
       "1             0             0             0             0             1   \n",
       "2             0             1             0             0             0   \n",
       "3             0             1             0             0             0   \n",
       "4             0             0             0             0             1   \n",
       "\n",
       "   cabin_deck_G  cabin_deck_T  cabin_side_0  cabin_side_P  cabin_side_S  \n",
       "0             1             0             0             0             1  \n",
       "1             0             0             0             0             1  \n",
       "2             0             0             0             0             1  \n",
       "3             0             0             0             0             1  \n",
       "4             0             0             0             0             1  \n",
       "\n",
       "[5 rows x 23 columns]"
      ]
     },
     "execution_count": 61,
     "metadata": {},
     "output_type": "execute_result"
    }
   ],
   "source": [
    "fe_test_data.head()"
   ]
  },
  {
   "cell_type": "code",
   "execution_count": 62,
   "id": "f7908f5a",
   "metadata": {
    "execution": {
     "iopub.execute_input": "2023-03-13T09:49:31.998395Z",
     "iopub.status.busy": "2023-03-13T09:49:31.997977Z",
     "iopub.status.idle": "2023-03-13T09:49:32.005218Z",
     "shell.execute_reply": "2023-03-13T09:49:32.004153Z"
    },
    "papermill": {
     "duration": 0.038402,
     "end_time": "2023-03-13T09:49:32.007516",
     "exception": false,
     "start_time": "2023-03-13T09:49:31.969114",
     "status": "completed"
    },
    "tags": []
   },
   "outputs": [
    {
     "data": {
      "text/plain": [
       "dtype('bool')"
      ]
     },
     "execution_count": 62,
     "metadata": {},
     "output_type": "execute_result"
    }
   ],
   "source": [
    "fe_train_data['Transported'].dtype"
   ]
  },
  {
   "cell_type": "code",
   "execution_count": 63,
   "id": "5a93d2d6",
   "metadata": {
    "execution": {
     "iopub.execute_input": "2023-03-13T09:49:32.063523Z",
     "iopub.status.busy": "2023-03-13T09:49:32.063092Z",
     "iopub.status.idle": "2023-03-13T09:49:32.072647Z",
     "shell.execute_reply": "2023-03-13T09:49:32.071390Z"
    },
    "papermill": {
     "duration": 0.040532,
     "end_time": "2023-03-13T09:49:32.075011",
     "exception": false,
     "start_time": "2023-03-13T09:49:32.034479",
     "status": "completed"
    },
    "tags": []
   },
   "outputs": [],
   "source": [
    "fe_train_data['Transported'] = list(map(int, fe_train_data['Transported']))"
   ]
  },
  {
   "cell_type": "code",
   "execution_count": 64,
   "id": "45a866b1",
   "metadata": {
    "execution": {
     "iopub.execute_input": "2023-03-13T09:49:32.131968Z",
     "iopub.status.busy": "2023-03-13T09:49:32.130948Z",
     "iopub.status.idle": "2023-03-13T09:49:32.150423Z",
     "shell.execute_reply": "2023-03-13T09:49:32.149195Z"
    },
    "papermill": {
     "duration": 0.050697,
     "end_time": "2023-03-13T09:49:32.152889",
     "exception": false,
     "start_time": "2023-03-13T09:49:32.102192",
     "status": "completed"
    },
    "tags": []
   },
   "outputs": [
    {
     "data": {
      "text/html": [
       "<div>\n",
       "<style scoped>\n",
       "    .dataframe tbody tr th:only-of-type {\n",
       "        vertical-align: middle;\n",
       "    }\n",
       "\n",
       "    .dataframe tbody tr th {\n",
       "        vertical-align: top;\n",
       "    }\n",
       "\n",
       "    .dataframe thead th {\n",
       "        text-align: right;\n",
       "    }\n",
       "</style>\n",
       "<table border=\"1\" class=\"dataframe\">\n",
       "  <thead>\n",
       "    <tr style=\"text-align: right;\">\n",
       "      <th></th>\n",
       "      <th>Transported</th>\n",
       "      <th>total_amenities</th>\n",
       "      <th>home_planet_Earth</th>\n",
       "      <th>home_planet_Europa</th>\n",
       "      <th>home_planet_Mars</th>\n",
       "      <th>cryo_sleep_False</th>\n",
       "      <th>cryo_sleep_True</th>\n",
       "      <th>destination_55 Cancri e</th>\n",
       "      <th>destination_PSO J318.5-22</th>\n",
       "      <th>destination_TRAPPIST-1e</th>\n",
       "      <th>...</th>\n",
       "      <th>cabin_deck_B</th>\n",
       "      <th>cabin_deck_C</th>\n",
       "      <th>cabin_deck_D</th>\n",
       "      <th>cabin_deck_E</th>\n",
       "      <th>cabin_deck_F</th>\n",
       "      <th>cabin_deck_G</th>\n",
       "      <th>cabin_deck_T</th>\n",
       "      <th>cabin_side_0</th>\n",
       "      <th>cabin_side_P</th>\n",
       "      <th>cabin_side_S</th>\n",
       "    </tr>\n",
       "  </thead>\n",
       "  <tbody>\n",
       "    <tr>\n",
       "      <th>0</th>\n",
       "      <td>0</td>\n",
       "      <td>0.000000</td>\n",
       "      <td>0</td>\n",
       "      <td>1</td>\n",
       "      <td>0</td>\n",
       "      <td>1</td>\n",
       "      <td>0</td>\n",
       "      <td>0</td>\n",
       "      <td>0</td>\n",
       "      <td>1</td>\n",
       "      <td>...</td>\n",
       "      <td>1</td>\n",
       "      <td>0</td>\n",
       "      <td>0</td>\n",
       "      <td>0</td>\n",
       "      <td>0</td>\n",
       "      <td>0</td>\n",
       "      <td>0</td>\n",
       "      <td>0</td>\n",
       "      <td>1</td>\n",
       "      <td>0</td>\n",
       "    </tr>\n",
       "    <tr>\n",
       "      <th>1</th>\n",
       "      <td>1</td>\n",
       "      <td>0.020452</td>\n",
       "      <td>1</td>\n",
       "      <td>0</td>\n",
       "      <td>0</td>\n",
       "      <td>1</td>\n",
       "      <td>0</td>\n",
       "      <td>0</td>\n",
       "      <td>0</td>\n",
       "      <td>1</td>\n",
       "      <td>...</td>\n",
       "      <td>0</td>\n",
       "      <td>0</td>\n",
       "      <td>0</td>\n",
       "      <td>0</td>\n",
       "      <td>1</td>\n",
       "      <td>0</td>\n",
       "      <td>0</td>\n",
       "      <td>0</td>\n",
       "      <td>0</td>\n",
       "      <td>1</td>\n",
       "    </tr>\n",
       "    <tr>\n",
       "      <th>2</th>\n",
       "      <td>0</td>\n",
       "      <td>0.288521</td>\n",
       "      <td>0</td>\n",
       "      <td>1</td>\n",
       "      <td>0</td>\n",
       "      <td>1</td>\n",
       "      <td>0</td>\n",
       "      <td>0</td>\n",
       "      <td>0</td>\n",
       "      <td>1</td>\n",
       "      <td>...</td>\n",
       "      <td>0</td>\n",
       "      <td>0</td>\n",
       "      <td>0</td>\n",
       "      <td>0</td>\n",
       "      <td>0</td>\n",
       "      <td>0</td>\n",
       "      <td>0</td>\n",
       "      <td>0</td>\n",
       "      <td>0</td>\n",
       "      <td>1</td>\n",
       "    </tr>\n",
       "  </tbody>\n",
       "</table>\n",
       "<p>3 rows × 24 columns</p>\n",
       "</div>"
      ],
      "text/plain": [
       "   Transported  total_amenities  home_planet_Earth  home_planet_Europa  \\\n",
       "0            0         0.000000                  0                   1   \n",
       "1            1         0.020452                  1                   0   \n",
       "2            0         0.288521                  0                   1   \n",
       "\n",
       "   home_planet_Mars  cryo_sleep_False  cryo_sleep_True  \\\n",
       "0                 0                 1                0   \n",
       "1                 0                 1                0   \n",
       "2                 0                 1                0   \n",
       "\n",
       "   destination_55 Cancri e  destination_PSO J318.5-22  \\\n",
       "0                        0                          0   \n",
       "1                        0                          0   \n",
       "2                        0                          0   \n",
       "\n",
       "   destination_TRAPPIST-1e  ...  cabin_deck_B  cabin_deck_C  cabin_deck_D  \\\n",
       "0                        1  ...             1             0             0   \n",
       "1                        1  ...             0             0             0   \n",
       "2                        1  ...             0             0             0   \n",
       "\n",
       "   cabin_deck_E  cabin_deck_F  cabin_deck_G  cabin_deck_T  cabin_side_0  \\\n",
       "0             0             0             0             0             0   \n",
       "1             0             1             0             0             0   \n",
       "2             0             0             0             0             0   \n",
       "\n",
       "   cabin_side_P  cabin_side_S  \n",
       "0             1             0  \n",
       "1             0             1  \n",
       "2             0             1  \n",
       "\n",
       "[3 rows x 24 columns]"
      ]
     },
     "execution_count": 64,
     "metadata": {},
     "output_type": "execute_result"
    }
   ],
   "source": [
    "fe_train_data.head(3)"
   ]
  },
  {
   "cell_type": "code",
   "execution_count": 65,
   "id": "580786af",
   "metadata": {
    "execution": {
     "iopub.execute_input": "2023-03-13T09:49:32.209231Z",
     "iopub.status.busy": "2023-03-13T09:49:32.208807Z",
     "iopub.status.idle": "2023-03-13T09:49:32.796090Z",
     "shell.execute_reply": "2023-03-13T09:49:32.794672Z"
    },
    "papermill": {
     "duration": 0.618848,
     "end_time": "2023-03-13T09:49:32.798864",
     "exception": false,
     "start_time": "2023-03-13T09:49:32.180016",
     "status": "completed"
    },
    "tags": []
   },
   "outputs": [],
   "source": [
    "# Model Selection\n",
    "from sklearn.ensemble import RandomForestClassifier\n",
    "from xgboost import XGBClassifier\n",
    "\n",
    "from sklearn.model_selection import train_test_split\n",
    "from sklearn.model_selection import cross_val_score\n",
    "from sklearn.model_selection import GridSearchCV\n",
    "from sklearn.metrics import f1_score"
   ]
  },
  {
   "cell_type": "code",
   "execution_count": 66,
   "id": "f436cab2",
   "metadata": {
    "execution": {
     "iopub.execute_input": "2023-03-13T09:49:32.856769Z",
     "iopub.status.busy": "2023-03-13T09:49:32.855937Z",
     "iopub.status.idle": "2023-03-13T09:49:32.863088Z",
     "shell.execute_reply": "2023-03-13T09:49:32.862080Z"
    },
    "papermill": {
     "duration": 0.038974,
     "end_time": "2023-03-13T09:49:32.865550",
     "exception": false,
     "start_time": "2023-03-13T09:49:32.826576",
     "status": "completed"
    },
    "tags": []
   },
   "outputs": [],
   "source": [
    "x = fe_train_data.drop('Transported', axis=1)\n",
    "y = fe_train_data['Transported']"
   ]
  },
  {
   "cell_type": "code",
   "execution_count": 67,
   "id": "172cbe68",
   "metadata": {
    "execution": {
     "iopub.execute_input": "2023-03-13T09:49:32.923497Z",
     "iopub.status.busy": "2023-03-13T09:49:32.922686Z",
     "iopub.status.idle": "2023-03-13T09:49:32.933456Z",
     "shell.execute_reply": "2023-03-13T09:49:32.932119Z"
    },
    "papermill": {
     "duration": 0.043119,
     "end_time": "2023-03-13T09:49:32.936223",
     "exception": false,
     "start_time": "2023-03-13T09:49:32.893104",
     "status": "completed"
    },
    "tags": []
   },
   "outputs": [],
   "source": [
    "x_train, x_val, y_train, y_val = train_test_split(x, y, test_size=0.1, random_state=0)"
   ]
  },
  {
   "cell_type": "code",
   "execution_count": 68,
   "id": "20c6d4ac",
   "metadata": {
    "execution": {
     "iopub.execute_input": "2023-03-13T09:49:32.993340Z",
     "iopub.status.busy": "2023-03-13T09:49:32.992333Z",
     "iopub.status.idle": "2023-03-13T09:49:32.997328Z",
     "shell.execute_reply": "2023-03-13T09:49:32.996200Z"
    },
    "papermill": {
     "duration": 0.036308,
     "end_time": "2023-03-13T09:49:32.999938",
     "exception": false,
     "start_time": "2023-03-13T09:49:32.963630",
     "status": "completed"
    },
    "tags": []
   },
   "outputs": [],
   "source": [
    "forest_model = RandomForestClassifier()"
   ]
  },
  {
   "cell_type": "code",
   "execution_count": 69,
   "id": "857f797c",
   "metadata": {
    "execution": {
     "iopub.execute_input": "2023-03-13T09:49:33.058998Z",
     "iopub.status.busy": "2023-03-13T09:49:33.058556Z",
     "iopub.status.idle": "2023-03-13T09:49:33.834778Z",
     "shell.execute_reply": "2023-03-13T09:49:33.833838Z"
    },
    "papermill": {
     "duration": 0.808994,
     "end_time": "2023-03-13T09:49:33.837106",
     "exception": false,
     "start_time": "2023-03-13T09:49:33.028112",
     "status": "completed"
    },
    "tags": []
   },
   "outputs": [
    {
     "data": {
      "text/plain": [
       "0.7224080267558528"
      ]
     },
     "execution_count": 69,
     "metadata": {},
     "output_type": "execute_result"
    }
   ],
   "source": [
    "# Without any tunning\n",
    "forest_model.fit(x_train, y_train)\n",
    "y_hat = forest_model.predict(x_val)\n",
    "f1_score(y_val, y_hat)"
   ]
  },
  {
   "cell_type": "code",
   "execution_count": 70,
   "id": "bcc3af39",
   "metadata": {
    "execution": {
     "iopub.execute_input": "2023-03-13T09:49:33.894557Z",
     "iopub.status.busy": "2023-03-13T09:49:33.893749Z",
     "iopub.status.idle": "2023-03-13T09:49:48.459307Z",
     "shell.execute_reply": "2023-03-13T09:49:48.457854Z"
    },
    "papermill": {
     "duration": 14.597056,
     "end_time": "2023-03-13T09:49:48.462040",
     "exception": false,
     "start_time": "2023-03-13T09:49:33.864984",
     "status": "completed"
    },
    "tags": []
   },
   "outputs": [
    {
     "data": {
      "text/plain": [
       "RandomForestClassifier(min_samples_leaf=4, n_estimators=500)"
      ]
     },
     "execution_count": 70,
     "metadata": {},
     "output_type": "execute_result"
    }
   ],
   "source": [
    "forest_params = [{'n_estimators':[500],\n",
    "                'min_samples_leaf':[4]}]\n",
    "\n",
    "forest_grid = GridSearchCV(estimator=forest_model, param_grid=forest_params, cv=5)\n",
    "forest_grid.fit(x_train, y_train)\n",
    "forest_grid.best_estimator_"
   ]
  },
  {
   "cell_type": "code",
   "execution_count": 71,
   "id": "fb1f52ab",
   "metadata": {
    "execution": {
     "iopub.execute_input": "2023-03-13T09:49:48.531283Z",
     "iopub.status.busy": "2023-03-13T09:49:48.530661Z",
     "iopub.status.idle": "2023-03-13T09:49:48.684374Z",
     "shell.execute_reply": "2023-03-13T09:49:48.683178Z"
    },
    "papermill": {
     "duration": 0.192526,
     "end_time": "2023-03-13T09:49:48.686787",
     "exception": false,
     "start_time": "2023-03-13T09:49:48.494261",
     "status": "completed"
    },
    "tags": []
   },
   "outputs": [
    {
     "data": {
      "text/plain": [
       "0.7401197604790418"
      ]
     },
     "execution_count": 71,
     "metadata": {},
     "output_type": "execute_result"
    }
   ],
   "source": [
    "forest_final = forest_grid.best_estimator_\n",
    "y_preds = forest_final.predict(x_val)\n",
    "f1_score(y_val, y_preds)"
   ]
  },
  {
   "cell_type": "code",
   "execution_count": 72,
   "id": "0431de9b",
   "metadata": {
    "execution": {
     "iopub.execute_input": "2023-03-13T09:49:48.743432Z",
     "iopub.status.busy": "2023-03-13T09:49:48.743009Z",
     "iopub.status.idle": "2023-03-13T09:50:01.701006Z",
     "shell.execute_reply": "2023-03-13T09:50:01.699963Z"
    },
    "papermill": {
     "duration": 12.989482,
     "end_time": "2023-03-13T09:50:01.703655",
     "exception": false,
     "start_time": "2023-03-13T09:49:48.714173",
     "status": "completed"
    },
    "tags": []
   },
   "outputs": [
    {
     "data": {
      "text/plain": [
       "0.7489951303309773"
      ]
     },
     "execution_count": 72,
     "metadata": {},
     "output_type": "execute_result"
    }
   ],
   "source": [
    "fr_score = cross_val_score(forest_final, x, y, cv=5)\n",
    "fr_score.mean()"
   ]
  },
  {
   "cell_type": "code",
   "execution_count": 73,
   "id": "df13289b",
   "metadata": {
    "execution": {
     "iopub.execute_input": "2023-03-13T09:50:01.760556Z",
     "iopub.status.busy": "2023-03-13T09:50:01.760162Z",
     "iopub.status.idle": "2023-03-13T09:50:01.765065Z",
     "shell.execute_reply": "2023-03-13T09:50:01.763805Z"
    },
    "papermill": {
     "duration": 0.036196,
     "end_time": "2023-03-13T09:50:01.767544",
     "exception": false,
     "start_time": "2023-03-13T09:50:01.731348",
     "status": "completed"
    },
    "tags": []
   },
   "outputs": [],
   "source": [
    "xg_model = XGBClassifier()"
   ]
  },
  {
   "cell_type": "code",
   "execution_count": 74,
   "id": "22fe8dac",
   "metadata": {
    "execution": {
     "iopub.execute_input": "2023-03-13T09:50:01.824020Z",
     "iopub.status.busy": "2023-03-13T09:50:01.823565Z",
     "iopub.status.idle": "2023-03-13T09:50:02.603528Z",
     "shell.execute_reply": "2023-03-13T09:50:02.602387Z"
    },
    "papermill": {
     "duration": 0.811787,
     "end_time": "2023-03-13T09:50:02.606444",
     "exception": false,
     "start_time": "2023-03-13T09:50:01.794657",
     "status": "completed"
    },
    "tags": []
   },
   "outputs": [
    {
     "data": {
      "text/plain": [
       "0.7307692307692308"
      ]
     },
     "execution_count": 74,
     "metadata": {},
     "output_type": "execute_result"
    }
   ],
   "source": [
    "# Without any tunning\n",
    "xg_model.fit(x_train, y_train)\n",
    "y_hat = xg_model.predict(x_val)\n",
    "f1_score(y_val, y_hat)"
   ]
  },
  {
   "cell_type": "code",
   "execution_count": 75,
   "id": "fbd1d2e8",
   "metadata": {
    "execution": {
     "iopub.execute_input": "2023-03-13T09:50:02.664497Z",
     "iopub.status.busy": "2023-03-13T09:50:02.664064Z",
     "iopub.status.idle": "2023-03-13T09:50:41.476627Z",
     "shell.execute_reply": "2023-03-13T09:50:41.475420Z"
    },
    "papermill": {
     "duration": 38.87152,
     "end_time": "2023-03-13T09:50:41.506724",
     "exception": false,
     "start_time": "2023-03-13T09:50:02.635204",
     "status": "completed"
    },
    "tags": []
   },
   "outputs": [
    {
     "data": {
      "text/plain": [
       "XGBClassifier(base_score=0.5, booster='gbtree', callbacks=None,\n",
       "              colsample_bylevel=1, colsample_bynode=1, colsample_bytree=1,\n",
       "              early_stopping_rounds=None, enable_categorical=False,\n",
       "              eval_metric=None, gamma=0, gpu_id=-1, grow_policy='depthwise',\n",
       "              importance_type=None, interaction_constraints='',\n",
       "              learning_rate=0.05, max_bin=256, max_cat_to_onehot=4,\n",
       "              max_delta_step=0, max_depth=6, max_leaves=0, min_child_weight=1,\n",
       "              missing=nan, monotone_constraints='()', n_estimators=1000,\n",
       "              n_jobs=0, num_parallel_tree=1, predictor='auto', random_state=0,\n",
       "              reg_alpha=0, reg_lambda=1, ...)"
      ]
     },
     "execution_count": 75,
     "metadata": {},
     "output_type": "execute_result"
    }
   ],
   "source": [
    "xg_params = [{\n",
    "    'n_estimators': [1000],\n",
    "    'learning_rate': [0.05]}]\n",
    "\n",
    "xg_grid = GridSearchCV(estimator=xg_model, param_grid=xg_params, cv=5)\n",
    "xg_grid.fit(x_train, y_train)\n",
    "xg_grid.best_estimator_"
   ]
  },
  {
   "cell_type": "code",
   "execution_count": 76,
   "id": "1e8d6d82",
   "metadata": {
    "execution": {
     "iopub.execute_input": "2023-03-13T09:50:41.564170Z",
     "iopub.status.busy": "2023-03-13T09:50:41.563469Z",
     "iopub.status.idle": "2023-03-13T09:50:41.588259Z",
     "shell.execute_reply": "2023-03-13T09:50:41.587217Z"
    },
    "papermill": {
     "duration": 0.056488,
     "end_time": "2023-03-13T09:50:41.590698",
     "exception": false,
     "start_time": "2023-03-13T09:50:41.534210",
     "status": "completed"
    },
    "tags": []
   },
   "outputs": [
    {
     "data": {
      "text/plain": [
       "0.7324613555291319"
      ]
     },
     "execution_count": 76,
     "metadata": {},
     "output_type": "execute_result"
    }
   ],
   "source": [
    "xg_final = xg_grid.best_estimator_\n",
    "y_preds = xg_final.predict(x_val)\n",
    "f1_score(y_val, y_preds)"
   ]
  },
  {
   "cell_type": "code",
   "execution_count": 77,
   "id": "b877a648",
   "metadata": {
    "execution": {
     "iopub.execute_input": "2023-03-13T09:50:41.649054Z",
     "iopub.status.busy": "2023-03-13T09:50:41.648628Z",
     "iopub.status.idle": "2023-03-13T09:51:15.516045Z",
     "shell.execute_reply": "2023-03-13T09:51:15.514959Z"
    },
    "papermill": {
     "duration": 33.919119,
     "end_time": "2023-03-13T09:51:15.538914",
     "exception": false,
     "start_time": "2023-03-13T09:50:41.619795",
     "status": "completed"
    },
    "tags": []
   },
   "outputs": [
    {
     "data": {
      "text/plain": [
       "0.7381816726012793"
      ]
     },
     "execution_count": 77,
     "metadata": {},
     "output_type": "execute_result"
    }
   ],
   "source": [
    "xg_score = cross_val_score(xg_final, x, y, cv=5)\n",
    "xg_score.mean()"
   ]
  },
  {
   "cell_type": "code",
   "execution_count": 78,
   "id": "b0577e8d",
   "metadata": {
    "execution": {
     "iopub.execute_input": "2023-03-13T09:51:15.597411Z",
     "iopub.status.busy": "2023-03-13T09:51:15.596984Z",
     "iopub.status.idle": "2023-03-13T09:51:15.602107Z",
     "shell.execute_reply": "2023-03-13T09:51:15.600863Z"
    },
    "papermill": {
     "duration": 0.037091,
     "end_time": "2023-03-13T09:51:15.604332",
     "exception": false,
     "start_time": "2023-03-13T09:51:15.567241",
     "status": "completed"
    },
    "tags": []
   },
   "outputs": [],
   "source": [
    "from sklearn.neighbors import KNeighborsClassifier"
   ]
  },
  {
   "cell_type": "code",
   "execution_count": 79,
   "id": "17975805",
   "metadata": {
    "execution": {
     "iopub.execute_input": "2023-03-13T09:51:15.662644Z",
     "iopub.status.busy": "2023-03-13T09:51:15.661842Z",
     "iopub.status.idle": "2023-03-13T09:51:15.667037Z",
     "shell.execute_reply": "2023-03-13T09:51:15.666202Z"
    },
    "papermill": {
     "duration": 0.037045,
     "end_time": "2023-03-13T09:51:15.669260",
     "exception": false,
     "start_time": "2023-03-13T09:51:15.632215",
     "status": "completed"
    },
    "tags": []
   },
   "outputs": [],
   "source": [
    "neig = KNeighborsClassifier(n_neighbors=6)"
   ]
  },
  {
   "cell_type": "code",
   "execution_count": 80,
   "id": "5d93d41d",
   "metadata": {
    "execution": {
     "iopub.execute_input": "2023-03-13T09:51:15.727298Z",
     "iopub.status.busy": "2023-03-13T09:51:15.726579Z",
     "iopub.status.idle": "2023-03-13T09:51:15.736924Z",
     "shell.execute_reply": "2023-03-13T09:51:15.735856Z"
    },
    "papermill": {
     "duration": 0.041974,
     "end_time": "2023-03-13T09:51:15.739156",
     "exception": false,
     "start_time": "2023-03-13T09:51:15.697182",
     "status": "completed"
    },
    "tags": []
   },
   "outputs": [
    {
     "data": {
      "text/plain": [
       "KNeighborsClassifier(n_neighbors=6)"
      ]
     },
     "execution_count": 80,
     "metadata": {},
     "output_type": "execute_result"
    }
   ],
   "source": [
    "neig.fit(x_train, y_train)"
   ]
  },
  {
   "cell_type": "code",
   "execution_count": 81,
   "id": "786166b1",
   "metadata": {
    "execution": {
     "iopub.execute_input": "2023-03-13T09:51:15.796765Z",
     "iopub.status.busy": "2023-03-13T09:51:15.796370Z",
     "iopub.status.idle": "2023-03-13T09:51:16.035520Z",
     "shell.execute_reply": "2023-03-13T09:51:16.034034Z"
    },
    "papermill": {
     "duration": 0.271642,
     "end_time": "2023-03-13T09:51:16.038587",
     "exception": false,
     "start_time": "2023-03-13T09:51:15.766945",
     "status": "completed"
    },
    "tags": []
   },
   "outputs": [],
   "source": [
    "preds = neig.predict(x_val)"
   ]
  },
  {
   "cell_type": "code",
   "execution_count": 82,
   "id": "6fc04138",
   "metadata": {
    "execution": {
     "iopub.execute_input": "2023-03-13T09:51:16.099841Z",
     "iopub.status.busy": "2023-03-13T09:51:16.098692Z",
     "iopub.status.idle": "2023-03-13T09:51:16.108085Z",
     "shell.execute_reply": "2023-03-13T09:51:16.106946Z"
    },
    "papermill": {
     "duration": 0.041425,
     "end_time": "2023-03-13T09:51:16.110442",
     "exception": false,
     "start_time": "2023-03-13T09:51:16.069017",
     "status": "completed"
    },
    "tags": []
   },
   "outputs": [
    {
     "data": {
      "text/plain": [
       "0.6620879120879121"
      ]
     },
     "execution_count": 82,
     "metadata": {},
     "output_type": "execute_result"
    }
   ],
   "source": [
    "f1_score(y_val, preds)"
   ]
  },
  {
   "cell_type": "code",
   "execution_count": 83,
   "id": "6f7c3ed2",
   "metadata": {
    "execution": {
     "iopub.execute_input": "2023-03-13T09:51:16.169221Z",
     "iopub.status.busy": "2023-03-13T09:51:16.168494Z",
     "iopub.status.idle": "2023-03-13T09:51:20.503644Z",
     "shell.execute_reply": "2023-03-13T09:51:20.502613Z"
    },
    "papermill": {
     "duration": 4.367427,
     "end_time": "2023-03-13T09:51:20.506367",
     "exception": false,
     "start_time": "2023-03-13T09:51:16.138940",
     "status": "completed"
    },
    "tags": []
   },
   "outputs": [],
   "source": [
    "scores = []\n",
    "k_value = []\n",
    "\n",
    "for i in range(1, 21, 1):\n",
    "    knn_model = KNeighborsClassifier(n_neighbors=i)\n",
    "    knn_model.fit(x_train, y_train)\n",
    "    y_hat = knn_model.predict(x_val)\n",
    "    f1 = f1_score(y_val, y_hat)\n",
    "    scores.append(f1)\n",
    "    k_value.append(i)"
   ]
  },
  {
   "cell_type": "code",
   "execution_count": 84,
   "id": "3b87ee50",
   "metadata": {
    "execution": {
     "iopub.execute_input": "2023-03-13T09:51:20.567178Z",
     "iopub.status.busy": "2023-03-13T09:51:20.566444Z",
     "iopub.status.idle": "2023-03-13T09:51:22.446186Z",
     "shell.execute_reply": "2023-03-13T09:51:22.445150Z"
    },
    "papermill": {
     "duration": 1.913094,
     "end_time": "2023-03-13T09:51:22.448833",
     "exception": false,
     "start_time": "2023-03-13T09:51:20.535739",
     "status": "completed"
    },
    "tags": []
   },
   "outputs": [],
   "source": [
    "import plotly.express as px"
   ]
  },
  {
   "cell_type": "code",
   "execution_count": 85,
   "id": "a37129ac",
   "metadata": {
    "execution": {
     "iopub.execute_input": "2023-03-13T09:51:22.509601Z",
     "iopub.status.busy": "2023-03-13T09:51:22.508862Z",
     "iopub.status.idle": "2023-03-13T09:51:24.063822Z",
     "shell.execute_reply": "2023-03-13T09:51:24.062962Z"
    },
    "papermill": {
     "duration": 1.588735,
     "end_time": "2023-03-13T09:51:24.066283",
     "exception": false,
     "start_time": "2023-03-13T09:51:22.477548",
     "status": "completed"
    },
    "tags": []
   },
   "outputs": [
    {
     "data": {
      "text/html": [
       "        <script type=\"text/javascript\">\n",
       "        window.PlotlyConfig = {MathJaxConfig: 'local'};\n",
       "        if (window.MathJax && window.MathJax.Hub && window.MathJax.Hub.Config) {window.MathJax.Hub.Config({SVG: {font: \"STIX-Web\"}});}\n",
       "        if (typeof require !== 'undefined') {\n",
       "        require.undef(\"plotly\");\n",
       "        requirejs.config({\n",
       "            paths: {\n",
       "                'plotly': ['https://cdn.plot.ly/plotly-2.18.0.min']\n",
       "            }\n",
       "        });\n",
       "        require(['plotly'], function(Plotly) {\n",
       "            window._Plotly = Plotly;\n",
       "        });\n",
       "        }\n",
       "        </script>\n",
       "        "
      ]
     },
     "metadata": {},
     "output_type": "display_data"
    },
    {
     "data": {
      "text/html": [
       "<div>                            <div id=\"28cf039f-76e5-4c53-929c-8c704606c973\" class=\"plotly-graph-div\" style=\"height:525px; width:100%;\"></div>            <script type=\"text/javascript\">                require([\"plotly\"], function(Plotly) {                    window.PLOTLYENV=window.PLOTLYENV || {};                                    if (document.getElementById(\"28cf039f-76e5-4c53-929c-8c704606c973\")) {                    Plotly.newPlot(                        \"28cf039f-76e5-4c53-929c-8c704606c973\",                        [{\"hovertemplate\":\"K Values=%{x}<br>F1 Scores=%{y}<extra></extra>\",\"legendgroup\":\"\",\"line\":{\"color\":\"#636efa\",\"dash\":\"solid\"},\"marker\":{\"symbol\":\"circle\"},\"mode\":\"lines\",\"name\":\"\",\"orientation\":\"v\",\"showlegend\":false,\"x\":[1,2,3,4,5,6,7,8,9,10,11,12,13,14,15,16,17,18,19,20],\"xaxis\":\"x\",\"y\":[0.6518518518518519,0.6324786324786325,0.7105263157894737,0.6530612244897959,0.6862026862026861,0.6620879120879121,0.709599027946537,0.6846361185983828,0.7158948685857321,0.7122580645161289,0.7349397590361446,0.6775956284153005,0.7325301204819278,0.7068062827225131,0.7384987893462469,0.7206982543640897,0.7207872078720787,0.7167919799498746,0.7241379310344828,0.7150000000000001],\"yaxis\":\"y\",\"type\":\"scatter\"}],                        {\"template\":{\"data\":{\"histogram2dcontour\":[{\"type\":\"histogram2dcontour\",\"colorbar\":{\"outlinewidth\":0,\"ticks\":\"\"},\"colorscale\":[[0.0,\"#0d0887\"],[0.1111111111111111,\"#46039f\"],[0.2222222222222222,\"#7201a8\"],[0.3333333333333333,\"#9c179e\"],[0.4444444444444444,\"#bd3786\"],[0.5555555555555556,\"#d8576b\"],[0.6666666666666666,\"#ed7953\"],[0.7777777777777778,\"#fb9f3a\"],[0.8888888888888888,\"#fdca26\"],[1.0,\"#f0f921\"]]}],\"choropleth\":[{\"type\":\"choropleth\",\"colorbar\":{\"outlinewidth\":0,\"ticks\":\"\"}}],\"histogram2d\":[{\"type\":\"histogram2d\",\"colorbar\":{\"outlinewidth\":0,\"ticks\":\"\"},\"colorscale\":[[0.0,\"#0d0887\"],[0.1111111111111111,\"#46039f\"],[0.2222222222222222,\"#7201a8\"],[0.3333333333333333,\"#9c179e\"],[0.4444444444444444,\"#bd3786\"],[0.5555555555555556,\"#d8576b\"],[0.6666666666666666,\"#ed7953\"],[0.7777777777777778,\"#fb9f3a\"],[0.8888888888888888,\"#fdca26\"],[1.0,\"#f0f921\"]]}],\"heatmap\":[{\"type\":\"heatmap\",\"colorbar\":{\"outlinewidth\":0,\"ticks\":\"\"},\"colorscale\":[[0.0,\"#0d0887\"],[0.1111111111111111,\"#46039f\"],[0.2222222222222222,\"#7201a8\"],[0.3333333333333333,\"#9c179e\"],[0.4444444444444444,\"#bd3786\"],[0.5555555555555556,\"#d8576b\"],[0.6666666666666666,\"#ed7953\"],[0.7777777777777778,\"#fb9f3a\"],[0.8888888888888888,\"#fdca26\"],[1.0,\"#f0f921\"]]}],\"heatmapgl\":[{\"type\":\"heatmapgl\",\"colorbar\":{\"outlinewidth\":0,\"ticks\":\"\"},\"colorscale\":[[0.0,\"#0d0887\"],[0.1111111111111111,\"#46039f\"],[0.2222222222222222,\"#7201a8\"],[0.3333333333333333,\"#9c179e\"],[0.4444444444444444,\"#bd3786\"],[0.5555555555555556,\"#d8576b\"],[0.6666666666666666,\"#ed7953\"],[0.7777777777777778,\"#fb9f3a\"],[0.8888888888888888,\"#fdca26\"],[1.0,\"#f0f921\"]]}],\"contourcarpet\":[{\"type\":\"contourcarpet\",\"colorbar\":{\"outlinewidth\":0,\"ticks\":\"\"}}],\"contour\":[{\"type\":\"contour\",\"colorbar\":{\"outlinewidth\":0,\"ticks\":\"\"},\"colorscale\":[[0.0,\"#0d0887\"],[0.1111111111111111,\"#46039f\"],[0.2222222222222222,\"#7201a8\"],[0.3333333333333333,\"#9c179e\"],[0.4444444444444444,\"#bd3786\"],[0.5555555555555556,\"#d8576b\"],[0.6666666666666666,\"#ed7953\"],[0.7777777777777778,\"#fb9f3a\"],[0.8888888888888888,\"#fdca26\"],[1.0,\"#f0f921\"]]}],\"surface\":[{\"type\":\"surface\",\"colorbar\":{\"outlinewidth\":0,\"ticks\":\"\"},\"colorscale\":[[0.0,\"#0d0887\"],[0.1111111111111111,\"#46039f\"],[0.2222222222222222,\"#7201a8\"],[0.3333333333333333,\"#9c179e\"],[0.4444444444444444,\"#bd3786\"],[0.5555555555555556,\"#d8576b\"],[0.6666666666666666,\"#ed7953\"],[0.7777777777777778,\"#fb9f3a\"],[0.8888888888888888,\"#fdca26\"],[1.0,\"#f0f921\"]]}],\"mesh3d\":[{\"type\":\"mesh3d\",\"colorbar\":{\"outlinewidth\":0,\"ticks\":\"\"}}],\"scatter\":[{\"fillpattern\":{\"fillmode\":\"overlay\",\"size\":10,\"solidity\":0.2},\"type\":\"scatter\"}],\"parcoords\":[{\"type\":\"parcoords\",\"line\":{\"colorbar\":{\"outlinewidth\":0,\"ticks\":\"\"}}}],\"scatterpolargl\":[{\"type\":\"scatterpolargl\",\"marker\":{\"colorbar\":{\"outlinewidth\":0,\"ticks\":\"\"}}}],\"bar\":[{\"error_x\":{\"color\":\"#2a3f5f\"},\"error_y\":{\"color\":\"#2a3f5f\"},\"marker\":{\"line\":{\"color\":\"#E5ECF6\",\"width\":0.5},\"pattern\":{\"fillmode\":\"overlay\",\"size\":10,\"solidity\":0.2}},\"type\":\"bar\"}],\"scattergeo\":[{\"type\":\"scattergeo\",\"marker\":{\"colorbar\":{\"outlinewidth\":0,\"ticks\":\"\"}}}],\"scatterpolar\":[{\"type\":\"scatterpolar\",\"marker\":{\"colorbar\":{\"outlinewidth\":0,\"ticks\":\"\"}}}],\"histogram\":[{\"marker\":{\"pattern\":{\"fillmode\":\"overlay\",\"size\":10,\"solidity\":0.2}},\"type\":\"histogram\"}],\"scattergl\":[{\"type\":\"scattergl\",\"marker\":{\"colorbar\":{\"outlinewidth\":0,\"ticks\":\"\"}}}],\"scatter3d\":[{\"type\":\"scatter3d\",\"line\":{\"colorbar\":{\"outlinewidth\":0,\"ticks\":\"\"}},\"marker\":{\"colorbar\":{\"outlinewidth\":0,\"ticks\":\"\"}}}],\"scattermapbox\":[{\"type\":\"scattermapbox\",\"marker\":{\"colorbar\":{\"outlinewidth\":0,\"ticks\":\"\"}}}],\"scatterternary\":[{\"type\":\"scatterternary\",\"marker\":{\"colorbar\":{\"outlinewidth\":0,\"ticks\":\"\"}}}],\"scattercarpet\":[{\"type\":\"scattercarpet\",\"marker\":{\"colorbar\":{\"outlinewidth\":0,\"ticks\":\"\"}}}],\"carpet\":[{\"aaxis\":{\"endlinecolor\":\"#2a3f5f\",\"gridcolor\":\"white\",\"linecolor\":\"white\",\"minorgridcolor\":\"white\",\"startlinecolor\":\"#2a3f5f\"},\"baxis\":{\"endlinecolor\":\"#2a3f5f\",\"gridcolor\":\"white\",\"linecolor\":\"white\",\"minorgridcolor\":\"white\",\"startlinecolor\":\"#2a3f5f\"},\"type\":\"carpet\"}],\"table\":[{\"cells\":{\"fill\":{\"color\":\"#EBF0F8\"},\"line\":{\"color\":\"white\"}},\"header\":{\"fill\":{\"color\":\"#C8D4E3\"},\"line\":{\"color\":\"white\"}},\"type\":\"table\"}],\"barpolar\":[{\"marker\":{\"line\":{\"color\":\"#E5ECF6\",\"width\":0.5},\"pattern\":{\"fillmode\":\"overlay\",\"size\":10,\"solidity\":0.2}},\"type\":\"barpolar\"}],\"pie\":[{\"automargin\":true,\"type\":\"pie\"}]},\"layout\":{\"autotypenumbers\":\"strict\",\"colorway\":[\"#636efa\",\"#EF553B\",\"#00cc96\",\"#ab63fa\",\"#FFA15A\",\"#19d3f3\",\"#FF6692\",\"#B6E880\",\"#FF97FF\",\"#FECB52\"],\"font\":{\"color\":\"#2a3f5f\"},\"hovermode\":\"closest\",\"hoverlabel\":{\"align\":\"left\"},\"paper_bgcolor\":\"white\",\"plot_bgcolor\":\"#E5ECF6\",\"polar\":{\"bgcolor\":\"#E5ECF6\",\"angularaxis\":{\"gridcolor\":\"white\",\"linecolor\":\"white\",\"ticks\":\"\"},\"radialaxis\":{\"gridcolor\":\"white\",\"linecolor\":\"white\",\"ticks\":\"\"}},\"ternary\":{\"bgcolor\":\"#E5ECF6\",\"aaxis\":{\"gridcolor\":\"white\",\"linecolor\":\"white\",\"ticks\":\"\"},\"baxis\":{\"gridcolor\":\"white\",\"linecolor\":\"white\",\"ticks\":\"\"},\"caxis\":{\"gridcolor\":\"white\",\"linecolor\":\"white\",\"ticks\":\"\"}},\"coloraxis\":{\"colorbar\":{\"outlinewidth\":0,\"ticks\":\"\"}},\"colorscale\":{\"sequential\":[[0.0,\"#0d0887\"],[0.1111111111111111,\"#46039f\"],[0.2222222222222222,\"#7201a8\"],[0.3333333333333333,\"#9c179e\"],[0.4444444444444444,\"#bd3786\"],[0.5555555555555556,\"#d8576b\"],[0.6666666666666666,\"#ed7953\"],[0.7777777777777778,\"#fb9f3a\"],[0.8888888888888888,\"#fdca26\"],[1.0,\"#f0f921\"]],\"sequentialminus\":[[0.0,\"#0d0887\"],[0.1111111111111111,\"#46039f\"],[0.2222222222222222,\"#7201a8\"],[0.3333333333333333,\"#9c179e\"],[0.4444444444444444,\"#bd3786\"],[0.5555555555555556,\"#d8576b\"],[0.6666666666666666,\"#ed7953\"],[0.7777777777777778,\"#fb9f3a\"],[0.8888888888888888,\"#fdca26\"],[1.0,\"#f0f921\"]],\"diverging\":[[0,\"#8e0152\"],[0.1,\"#c51b7d\"],[0.2,\"#de77ae\"],[0.3,\"#f1b6da\"],[0.4,\"#fde0ef\"],[0.5,\"#f7f7f7\"],[0.6,\"#e6f5d0\"],[0.7,\"#b8e186\"],[0.8,\"#7fbc41\"],[0.9,\"#4d9221\"],[1,\"#276419\"]]},\"xaxis\":{\"gridcolor\":\"white\",\"linecolor\":\"white\",\"ticks\":\"\",\"title\":{\"standoff\":15},\"zerolinecolor\":\"white\",\"automargin\":true,\"zerolinewidth\":2},\"yaxis\":{\"gridcolor\":\"white\",\"linecolor\":\"white\",\"ticks\":\"\",\"title\":{\"standoff\":15},\"zerolinecolor\":\"white\",\"automargin\":true,\"zerolinewidth\":2},\"scene\":{\"xaxis\":{\"backgroundcolor\":\"#E5ECF6\",\"gridcolor\":\"white\",\"linecolor\":\"white\",\"showbackground\":true,\"ticks\":\"\",\"zerolinecolor\":\"white\",\"gridwidth\":2},\"yaxis\":{\"backgroundcolor\":\"#E5ECF6\",\"gridcolor\":\"white\",\"linecolor\":\"white\",\"showbackground\":true,\"ticks\":\"\",\"zerolinecolor\":\"white\",\"gridwidth\":2},\"zaxis\":{\"backgroundcolor\":\"#E5ECF6\",\"gridcolor\":\"white\",\"linecolor\":\"white\",\"showbackground\":true,\"ticks\":\"\",\"zerolinecolor\":\"white\",\"gridwidth\":2}},\"shapedefaults\":{\"line\":{\"color\":\"#2a3f5f\"}},\"annotationdefaults\":{\"arrowcolor\":\"#2a3f5f\",\"arrowhead\":0,\"arrowwidth\":1},\"geo\":{\"bgcolor\":\"white\",\"landcolor\":\"#E5ECF6\",\"subunitcolor\":\"white\",\"showland\":true,\"showlakes\":true,\"lakecolor\":\"white\"},\"title\":{\"x\":0.05},\"mapbox\":{\"style\":\"light\"}}},\"xaxis\":{\"anchor\":\"y\",\"domain\":[0.0,1.0],\"title\":{\"text\":\"K Values\"}},\"yaxis\":{\"anchor\":\"x\",\"domain\":[0.0,1.0],\"title\":{\"text\":\"F1 Scores\"}},\"legend\":{\"tracegroupgap\":0},\"margin\":{\"t\":60}},                        {\"responsive\": true}                    ).then(function(){\n",
       "                            \n",
       "var gd = document.getElementById('28cf039f-76e5-4c53-929c-8c704606c973');\n",
       "var x = new MutationObserver(function (mutations, observer) {{\n",
       "        var display = window.getComputedStyle(gd).display;\n",
       "        if (!display || display === 'none') {{\n",
       "            console.log([gd, 'removed!']);\n",
       "            Plotly.purge(gd);\n",
       "            observer.disconnect();\n",
       "        }}\n",
       "}});\n",
       "\n",
       "// Listen for the removal of the full notebook cells\n",
       "var notebookContainer = gd.closest('#notebook-container');\n",
       "if (notebookContainer) {{\n",
       "    x.observe(notebookContainer, {childList: true});\n",
       "}}\n",
       "\n",
       "// Listen for the clearing of the current output cell\n",
       "var outputEl = gd.closest('.output');\n",
       "if (outputEl) {{\n",
       "    x.observe(outputEl, {childList: true});\n",
       "}}\n",
       "\n",
       "                        })                };                });            </script>        </div>"
      ]
     },
     "metadata": {},
     "output_type": "display_data"
    }
   ],
   "source": [
    "fig = px.line(x=k_value, y=scores, labels={'x':'K Values', 'y':'F1 Scores'})\n",
    "fig.show()"
   ]
  },
  {
   "cell_type": "code",
   "execution_count": 86,
   "id": "d0edad5e",
   "metadata": {
    "execution": {
     "iopub.execute_input": "2023-03-13T09:51:24.126144Z",
     "iopub.status.busy": "2023-03-13T09:51:24.125451Z",
     "iopub.status.idle": "2023-03-13T09:51:25.954148Z",
     "shell.execute_reply": "2023-03-13T09:51:25.952857Z"
    },
    "papermill": {
     "duration": 1.861834,
     "end_time": "2023-03-13T09:51:25.956642",
     "exception": false,
     "start_time": "2023-03-13T09:51:24.094808",
     "status": "completed"
    },
    "tags": []
   },
   "outputs": [
    {
     "data": {
      "text/plain": [
       "0.7232277720023479"
      ]
     },
     "execution_count": 86,
     "metadata": {},
     "output_type": "execute_result"
    }
   ],
   "source": [
    "knn_final = KNeighborsClassifier(n_neighbors=15)\n",
    "knn_score = cross_val_score(knn_final, x, y, cv=5)\n",
    "knn_score.mean()"
   ]
  },
  {
   "cell_type": "code",
   "execution_count": 87,
   "id": "a0d3062f",
   "metadata": {
    "execution": {
     "iopub.execute_input": "2023-03-13T09:51:26.017154Z",
     "iopub.status.busy": "2023-03-13T09:51:26.016756Z",
     "iopub.status.idle": "2023-03-13T09:51:26.960213Z",
     "shell.execute_reply": "2023-03-13T09:51:26.959200Z"
    },
    "papermill": {
     "duration": 0.977221,
     "end_time": "2023-03-13T09:51:26.963132",
     "exception": false,
     "start_time": "2023-03-13T09:51:25.985911",
     "status": "completed"
    },
    "tags": []
   },
   "outputs": [],
   "source": [
    "final_model = knn_final\n",
    "final_model.fit(x,y)\n",
    "final_preds = final_model.predict(fe_test_data)"
   ]
  },
  {
   "cell_type": "code",
   "execution_count": 88,
   "id": "6cfb4726",
   "metadata": {
    "execution": {
     "iopub.execute_input": "2023-03-13T09:51:27.023757Z",
     "iopub.status.busy": "2023-03-13T09:51:27.023370Z",
     "iopub.status.idle": "2023-03-13T09:51:27.034152Z",
     "shell.execute_reply": "2023-03-13T09:51:27.033326Z"
    },
    "papermill": {
     "duration": 0.044159,
     "end_time": "2023-03-13T09:51:27.036197",
     "exception": false,
     "start_time": "2023-03-13T09:51:26.992038",
     "status": "completed"
    },
    "tags": []
   },
   "outputs": [
    {
     "data": {
      "text/html": [
       "<div>\n",
       "<style scoped>\n",
       "    .dataframe tbody tr th:only-of-type {\n",
       "        vertical-align: middle;\n",
       "    }\n",
       "\n",
       "    .dataframe tbody tr th {\n",
       "        vertical-align: top;\n",
       "    }\n",
       "\n",
       "    .dataframe thead th {\n",
       "        text-align: right;\n",
       "    }\n",
       "</style>\n",
       "<table border=\"1\" class=\"dataframe\">\n",
       "  <thead>\n",
       "    <tr style=\"text-align: right;\">\n",
       "      <th></th>\n",
       "      <th>PassengerId</th>\n",
       "      <th>Transported</th>\n",
       "    </tr>\n",
       "  </thead>\n",
       "  <tbody>\n",
       "    <tr>\n",
       "      <th>0</th>\n",
       "      <td>0013_01</td>\n",
       "      <td>1</td>\n",
       "    </tr>\n",
       "    <tr>\n",
       "      <th>1</th>\n",
       "      <td>0018_01</td>\n",
       "      <td>0</td>\n",
       "    </tr>\n",
       "    <tr>\n",
       "      <th>2</th>\n",
       "      <td>0019_01</td>\n",
       "      <td>1</td>\n",
       "    </tr>\n",
       "    <tr>\n",
       "      <th>3</th>\n",
       "      <td>0021_01</td>\n",
       "      <td>1</td>\n",
       "    </tr>\n",
       "    <tr>\n",
       "      <th>4</th>\n",
       "      <td>0023_01</td>\n",
       "      <td>0</td>\n",
       "    </tr>\n",
       "  </tbody>\n",
       "</table>\n",
       "</div>"
      ],
      "text/plain": [
       "  PassengerId  Transported\n",
       "0     0013_01            1\n",
       "1     0018_01            0\n",
       "2     0019_01            1\n",
       "3     0021_01            1\n",
       "4     0023_01            0"
      ]
     },
     "execution_count": 88,
     "metadata": {},
     "output_type": "execute_result"
    }
   ],
   "source": [
    "output = pd.DataFrame({'PassengerId':passenger_id,'Transported':final_preds})\n",
    "output.head()"
   ]
  },
  {
   "cell_type": "code",
   "execution_count": 89,
   "id": "3161c152",
   "metadata": {
    "execution": {
     "iopub.execute_input": "2023-03-13T09:51:27.096539Z",
     "iopub.status.busy": "2023-03-13T09:51:27.095719Z",
     "iopub.status.idle": "2023-03-13T09:51:27.108311Z",
     "shell.execute_reply": "2023-03-13T09:51:27.107155Z"
    },
    "papermill": {
     "duration": 0.045336,
     "end_time": "2023-03-13T09:51:27.110654",
     "exception": false,
     "start_time": "2023-03-13T09:51:27.065318",
     "status": "completed"
    },
    "tags": []
   },
   "outputs": [
    {
     "data": {
      "text/html": [
       "<div>\n",
       "<style scoped>\n",
       "    .dataframe tbody tr th:only-of-type {\n",
       "        vertical-align: middle;\n",
       "    }\n",
       "\n",
       "    .dataframe tbody tr th {\n",
       "        vertical-align: top;\n",
       "    }\n",
       "\n",
       "    .dataframe thead th {\n",
       "        text-align: right;\n",
       "    }\n",
       "</style>\n",
       "<table border=\"1\" class=\"dataframe\">\n",
       "  <thead>\n",
       "    <tr style=\"text-align: right;\">\n",
       "      <th></th>\n",
       "      <th>PassengerId</th>\n",
       "      <th>Transported</th>\n",
       "    </tr>\n",
       "  </thead>\n",
       "  <tbody>\n",
       "    <tr>\n",
       "      <th>0</th>\n",
       "      <td>0013_01</td>\n",
       "      <td>True</td>\n",
       "    </tr>\n",
       "    <tr>\n",
       "      <th>1</th>\n",
       "      <td>0018_01</td>\n",
       "      <td>False</td>\n",
       "    </tr>\n",
       "  </tbody>\n",
       "</table>\n",
       "</div>"
      ],
      "text/plain": [
       "  PassengerId  Transported\n",
       "0     0013_01         True\n",
       "1     0018_01        False"
      ]
     },
     "execution_count": 89,
     "metadata": {},
     "output_type": "execute_result"
    }
   ],
   "source": [
    "output['Transported'] = list(map(bool, output['Transported']))\n",
    "output.head(2)"
   ]
  },
  {
   "cell_type": "code",
   "execution_count": 90,
   "id": "e8573407",
   "metadata": {
    "execution": {
     "iopub.execute_input": "2023-03-13T09:51:27.170486Z",
     "iopub.status.busy": "2023-03-13T09:51:27.169713Z",
     "iopub.status.idle": "2023-03-13T09:51:27.184613Z",
     "shell.execute_reply": "2023-03-13T09:51:27.183756Z"
    },
    "papermill": {
     "duration": 0.048013,
     "end_time": "2023-03-13T09:51:27.187592",
     "exception": false,
     "start_time": "2023-03-13T09:51:27.139579",
     "status": "completed"
    },
    "tags": []
   },
   "outputs": [
    {
     "name": "stdout",
     "output_type": "stream",
     "text": [
      "Success\n"
     ]
    }
   ],
   "source": [
    "output.to_csv('submission.csv', index=False)\n",
    "print(\"Success\")"
   ]
  },
  {
   "cell_type": "code",
   "execution_count": null,
   "id": "1b06010a",
   "metadata": {
    "papermill": {
     "duration": 0.028919,
     "end_time": "2023-03-13T09:51:27.246734",
     "exception": false,
     "start_time": "2023-03-13T09:51:27.217815",
     "status": "completed"
    },
    "tags": []
   },
   "outputs": [],
   "source": []
  },
  {
   "cell_type": "code",
   "execution_count": null,
   "id": "55c508f9",
   "metadata": {
    "papermill": {
     "duration": 0.028951,
     "end_time": "2023-03-13T09:51:27.304997",
     "exception": false,
     "start_time": "2023-03-13T09:51:27.276046",
     "status": "completed"
    },
    "tags": []
   },
   "outputs": [],
   "source": []
  },
  {
   "cell_type": "code",
   "execution_count": null,
   "id": "b0ef8cfa",
   "metadata": {
    "papermill": {
     "duration": 0.028756,
     "end_time": "2023-03-13T09:51:27.362851",
     "exception": false,
     "start_time": "2023-03-13T09:51:27.334095",
     "status": "completed"
    },
    "tags": []
   },
   "outputs": [],
   "source": []
  },
  {
   "cell_type": "code",
   "execution_count": null,
   "id": "ec5dff5f",
   "metadata": {
    "papermill": {
     "duration": 0.029267,
     "end_time": "2023-03-13T09:51:27.421274",
     "exception": false,
     "start_time": "2023-03-13T09:51:27.392007",
     "status": "completed"
    },
    "tags": []
   },
   "outputs": [],
   "source": []
  }
 ],
 "metadata": {
  "kernelspec": {
   "display_name": "Python 3",
   "language": "python",
   "name": "python3"
  },
  "language_info": {
   "codemirror_mode": {
    "name": "ipython",
    "version": 3
   },
   "file_extension": ".py",
   "mimetype": "text/x-python",
   "name": "python",
   "nbconvert_exporter": "python",
   "pygments_lexer": "ipython3",
   "version": "3.7.12"
  },
  "papermill": {
   "default_parameters": {},
   "duration": 132.871231,
   "end_time": "2023-03-13T09:51:28.477392",
   "environment_variables": {},
   "exception": null,
   "input_path": "__notebook__.ipynb",
   "output_path": "__notebook__.ipynb",
   "parameters": {},
   "start_time": "2023-03-13T09:49:15.606161",
   "version": "2.4.0"
  }
 },
 "nbformat": 4,
 "nbformat_minor": 5
}
